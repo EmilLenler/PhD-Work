{
 "cells": [
  {
   "cell_type": "code",
   "execution_count": 5,
   "metadata": {},
   "outputs": [],
   "source": [
    "import numpy as np\n",
    "import matplotlib.pyplot as plt\n",
    "import math\n"
   ]
  },
  {
   "cell_type": "code",
   "execution_count": 6,
   "metadata": {},
   "outputs": [],
   "source": [
    "class Segment:\n",
    "    def __init__(self,dx,N,m,j):\n",
    "        self.dx = dx #width of segment\n",
    "        self.N = N #number of particles in segment\n",
    "        self.m = m #particle mass\n",
    "        self.j = j #segment index\n",
    "    def get_N(self):\n",
    "        return self.N\n",
    "    def escape_fraction(self,dt,T):\n",
    "        kb = 1.38*1e-23\n",
    "        return 0.5*(1-math.erf(np.sqrt(self.m/(2*kb*T))*self.dx/dt))\n",
    "\n",
    "class Octopole:\n",
    "    def __init__(self,segments):\n",
    "        self.segments = segments\n",
    "    def update(self,dt,T):\n",
    "        #Do 1st and final segment on their own as they are slightly different!\n",
    "        self.segments[0].N += self.segments[1].N*self.segments[0].escape_fraction(dt,T)-self.segments[0].N*self.segments[1].escape_fraction(dt,T)\n",
    "        self.segments[-1].N -= 2*self.segments[-1].N*self.segments[-1].escape_fraction(dt,T)\n",
    "        for segment in self.segments[1:-1]:\n",
    "            right_neighbor = self.segments[segment.j+1]\n",
    "            left_neighbor = self.segments[segment.j-1]\n",
    "            segment.N += right_neighbor.N*right_neighbor.escape_fraction(dt,T) + left_neighbor.N*left_neighbor.escape_fraction(dt,T) - 2*segment.N*segment.escape_fraction(dt,T)\n",
    "            \n"
   ]
  },
  {
   "cell_type": "code",
   "execution_count": 7,
   "metadata": {},
   "outputs": [],
   "source": [
    "N_segments = 1e2\n",
    "kb = 1.38*1e-23\n",
    "\n",
    "N_tot = 1e-6\n",
    "L_octo = 133*1e-3\n",
    "dx = L_octo / N_segments\n",
    "N_per_segment = N_tot / N_segments\n",
    "segment_indexes = range(int(N_segments))\n",
    "dt = 1e-6\n",
    "\n",
    "birth_voltage = 24\n",
    "birth_energy = birth_voltage*1.6*1e-19 #1 Coulomb = 1.6*1e-19\n",
    "Temperature = 2*birth_energy/kb\n"
   ]
  },
  {
   "cell_type": "code",
   "execution_count": 8,
   "metadata": {},
   "outputs": [
    {
     "name": "stderr",
     "output_type": "stream",
     "text": [
      "C:\\Users\\Emil\\AppData\\Local\\Temp\\ipykernel_3856\\3052757473.py:11: RuntimeWarning: invalid value encountered in sqrt\n",
      "  return 0.5*(1-math.erf(np.sqrt(self.m/(2*kb*T))*self.dx/dt))\n"
     ]
    }
   ],
   "source": [
    "segment_array = [Segment(dx,N_per_segment,300*1.66*(10^(-27)),j) for j in segment_indexes]\n",
    "Octopole1 = Octopole(segment_array)\n",
    "\n",
    "t = 0\n",
    "t_end = 5*1e-3\n",
    "\n",
    "while t < t_end:\n",
    "    Octopole1.update(dt,Temperature)\n",
    "    t += dt"
   ]
  }
 ],
 "metadata": {
  "kernelspec": {
   "display_name": "base",
   "language": "python",
   "name": "python3"
  },
  "language_info": {
   "codemirror_mode": {
    "name": "ipython",
    "version": 3
   },
   "file_extension": ".py",
   "mimetype": "text/x-python",
   "name": "python",
   "nbconvert_exporter": "python",
   "pygments_lexer": "ipython3",
   "version": "3.9.16"
  }
 },
 "nbformat": 4,
 "nbformat_minor": 2
}

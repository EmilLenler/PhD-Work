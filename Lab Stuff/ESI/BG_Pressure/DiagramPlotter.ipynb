{
 "cells": [
  {
   "cell_type": "code",
   "execution_count": 9,
   "metadata": {},
   "outputs": [],
   "source": [
    "import matplotlib.pyplot as plt\n",
    "import numpy as np\n",
    "from scipy.optimize import curve_fit\n",
    "from scipy.optimize import root\n",
    "import MathieuLib as ML\n"
   ]
  },
  {
   "cell_type": "code",
   "execution_count": null,
   "metadata": {},
   "outputs": [],
   "source": [
    "kappList = [0,0.25]\n",
    "q_arrays = [np.linspace(0,1.5,100),np.linspace(0,2,100)]\n",
    "\n",
    "\n",
    "\n",
    "for kappa,q_array in zip(kappaList,q_arrays):\n",
    "    print(kappa)\n",
    "    [topA,topQ,bottomA,bottomQ] = makeStabilityDiagram(a_array,q_array,kappa)\n",
    "    topAs.append(topA)\n",
    "    bottomAs.append(bottomA)\n",
    "    topQs.append(topQ)\n",
    "    bottomQs.append(bottomQ)\n",
    "    ax.plot(topQ,topA)\n",
    "    ax.plot(bottomQ,bottomA)"
   ]
  }
 ],
 "metadata": {
  "kernelspec": {
   "display_name": "Python 3",
   "language": "python",
   "name": "python3"
  },
  "language_info": {
   "codemirror_mode": {
    "name": "ipython",
    "version": 3
   },
   "file_extension": ".py",
   "mimetype": "text/x-python",
   "name": "python",
   "nbconvert_exporter": "python",
   "pygments_lexer": "ipython3",
   "version": "3.12.3"
  }
 },
 "nbformat": 4,
 "nbformat_minor": 2
}

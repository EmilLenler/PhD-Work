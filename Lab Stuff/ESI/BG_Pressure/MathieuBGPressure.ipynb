{
 "cells": [
  {
   "cell_type": "code",
   "execution_count": 2,
   "metadata": {},
   "outputs": [],
   "source": [
    "import matplotlib.pyplot as plt\n",
    "import numpy as np\n",
    "from scipy.optimize import curve_fit\n",
    "from scipy.optimize import root"
   ]
  },
  {
   "cell_type": "code",
   "execution_count": 3,
   "metadata": {},
   "outputs": [],
   "source": [
    "#Create the matrix as defined by Uehara:\n",
    "def detMuVECTa(a_s,q,kappa,tol = 1e-3,mu = 0):\n",
    "    #Approximate Delta(mu) as defined by Hasegawa & Uehara\n",
    "    #\n",
    "    # PARAMETERS\n",
    "    # a - a value for trapping\n",
    "    # q - q value for trapping\n",
    "    # kappa - friction term, see Hasegawa & Uehara for further details\n",
    "    # tol - relative tolerance at which to stop calculating\n",
    "    \n",
    "\n",
    "    res = []\n",
    "    for a in a_s:\n",
    "        currentS = 1\n",
    "        nextS = 2\n",
    "        currentMatrix = makeMatrix(a,q,kappa,currentS)\n",
    "        nextMatrix = makeMatrix(a,q,kappa,nextS)\n",
    "        rel_diff = (np.linalg.det(currentMatrix)-np.linalg.det(nextMatrix))/np.linalg.det(currentMatrix)\n",
    "        while np.abs(rel_diff) > tol:\n",
    "            nextS +=1\n",
    "            currentS +=1\n",
    "            currentMatrix = makeMatrix(a,q,kappa,currentS,mu)\n",
    "            nextMatrix = makeMatrix(a,q,kappa,nextS,mu)\n",
    "            rel_diff = (np.linalg.det(currentMatrix)-np.linalg.det(nextMatrix))/np.linalg.det(currentMatrix)\n",
    "            res.append(np.linalg.det(currentMatrix))\n",
    "    return np.array(res)\n",
    "\n",
    "\n",
    "def chi(a,q,kappa,s,mu = 0):\n",
    "    #\n",
    "    # PARAMETERS\n",
    "    # a - a value for the trap\n",
    "    # q - q value for the trap\n",
    "    # kappa - friction term, see Hasegawa & Uehara for further details\n",
    "    # s - integer number for which chi is defined\n",
    "    # mu - complex number\n",
    "    #\n",
    "    #\n",
    "    # RETURN\n",
    "    # chi - chi_s(a,q,kappa)  as defined by Hasegawa & Uehara\n",
    "    return q/((2*s-1j*mu)**2 -a + kappa**2)\n",
    "    #return s\n",
    "\n",
    "\n",
    "def makeMatrix(a,q,kappa,S_max, mu= 0):\n",
    "    #\n",
    "    # PARAMETERS\n",
    "    # a - a value for trapping\n",
    "    # q - q value for trapping\n",
    "    # kappa - friction term, see Hasegawa & Uehara for further details\n",
    "    # S_max - max value for which to compute chi_s matrix\n",
    "    # \n",
    "    # RETURN\n",
    "    # tridiagonal matrix as defined by Hasegawa & Uehara of dimension 2*S_max + 1\n",
    "    matrix = np.identity(2*S_max+1,dtype = np.complex128)\n",
    "    length = matrix.shape[0]\n",
    "    matrix[0,1] = chi(a,q,kappa,-S_max)\n",
    "    matrix[length-1,length-2] = chi(a,q,kappa,S_max)\n",
    "    for j in range(1,length-1):\n",
    "        s = j-S_max\n",
    "        matrix[j,j+1] = chi(a,q,kappa,s,mu)\n",
    "        matrix[j,j-1] = chi(a,q,kappa,-s,mu)\n",
    "    return matrix\n",
    "\n",
    "def detMu(a,q,kappa,tol = 1e-3,mu = 0):\n",
    "    #Approximate Delta(mu) as defined by Hasegawa & Uehara\n",
    "    #\n",
    "    # PARAMETERS\n",
    "    # a - a value for trapping\n",
    "    # q - q value for trapping\n",
    "    # kappa - friction term, see Hasegawa & Uehara for further details\n",
    "    # tol - relative tolerance at which to stop calculating\n",
    "    \n",
    "    \n",
    "    currentS = 1\n",
    "    nextS = 2\n",
    "    currentMatrix = makeMatrix(a,q,kappa,currentS)\n",
    "    nextMatrix = makeMatrix(a,q,kappa,nextS)\n",
    "    rel_diff = (np.linalg.det(currentMatrix)-np.linalg.det(nextMatrix))/np.linalg.det(currentMatrix)\n",
    "    while np.abs(rel_diff) > tol:\n",
    "        nextS +=1\n",
    "        currentS +=1\n",
    "        currentMatrix = makeMatrix(a,q,kappa,currentS,mu)\n",
    "        nextMatrix = makeMatrix(a,q,kappa,nextS,mu)\n",
    "        rel_diff = (np.linalg.det(currentMatrix)-np.linalg.det(nextMatrix))/np.linalg.det(currentMatrix)\n",
    "    return np.linalg.det(currentMatrix)#, currentS\n",
    "\n",
    "def isStable(a,q,kappa, tol = 1e-3):\n",
    "    detVal = detMu(a,q,kappa,tol)\n",
    "    checkValue = detVal*(np.sin(np.pi/2 * np.sqrt(a-kappa**2,dtype = np.complex128)))**2\n",
    "    if checkValue > 1: ###CASE 1\n",
    "        alpha = 2/np.pi * np.arccosh(np.sqrt(checkValue,dtype = np.complex128))\n",
    "        if alpha <= kappa:\n",
    "            return True\n",
    "        else:\n",
    "            return False\n",
    "    elif checkValue >= 0: ###CASE 2\n",
    "        return True \n",
    "    else: ###CASE 3\n",
    "        alpha = 2/np.pi * np.arcsinh(np.sqrt(-checkValue,dtype = np.complex128))\n",
    "        if alpha <= kappa:\n",
    "            return True\n",
    "        else:\n",
    "            return False\n",
    "\n",
    "\n",
    "def makeStabilityDiagram(a_array,q_array,kappa,tol = 1e-3):\n",
    "    # \n",
    "    # PARAMETERS\n",
    "    # a - array of a values for which to determine stability over\n",
    "    # q - array of q values over which to determine stability over\n",
    "    # kappa- friction term, see Hasegawa & Uehara for further details\n",
    "    \n",
    "\n",
    "    top_a = []\n",
    "    top_q = []\n",
    "    bottom_a = []\n",
    "    bottom_q = []\n",
    "    for idx,q in enumerate(q_array):\n",
    "        #print(rf'At index {idx} out of {len(q_array)}')\n",
    "        #Bottom Line\n",
    "        for a in a_array:\n",
    "            if np.bitwise_and(isStable(a,q,kappa,tol),isStable(-0.5*a,-0.5*q,kappa,tol)):\n",
    "                bottom_a.append(a)\n",
    "                bottom_q.append(q)\n",
    "                break\n",
    "        #Top Line\n",
    "        for a in np.flip(a_array):\n",
    "            if np.bitwise_and(isStable(a,q,kappa,tol),isStable(-0.5*a,-0.5*q,kappa,tol)):\n",
    "                top_a.append(a)\n",
    "                top_q.append(q)\n",
    "                break\n",
    "    return [np.array(top_a),np.array(top_q),np.array(bottom_a),np.array(bottom_q)]\n",
    "#print(detMu(0,0.5,0.002)[0])\n",
    "\n",
    "def makeStabilityDiagramDEVELOP(a_array,q_array,kappa,N = 100,tol = 1e-3):\n",
    "    # \n",
    "    # PARAMETERS\n",
    "    # a - array of a values for which to determine stability over\n",
    "    # q - array of q values over which to determine stability over\n",
    "    # kappa- friction term, see Hasegawa & Uehara for further details\n",
    "    \n",
    "\n",
    "    top_a = []\n",
    "    top_q = []\n",
    "    bottom_a = []\n",
    "    bottom_q = []\n",
    "    for idx,q in enumerate(q_array):\n",
    "        #print(rf'At index {idx} out of {len(q_array)}')\n",
    "        #Bottom Line\n",
    "        if not top_a:\n",
    "            for a in a_array:\n",
    "                if np.bitwise_and(isStable(a,q,kappa,tol),isStable(-0.5*a,-0.5*q,kappa,tol)):\n",
    "                    bottom_a.append(a)\n",
    "                    bottom_q.append(q)\n",
    "                    print(a,q)\n",
    "                    break\n",
    "                #Top Line\n",
    "            for a in np.flip(a_array):\n",
    "                if np.bitwise_and(isStable(a,q,kappa,tol),isStable(-0.5*a,-0.5*q,kappa,tol)):\n",
    "                    top_a.append(a)\n",
    "                    top_q.append(q)\n",
    "                    break   \n",
    "        else:\n",
    "            search_A_down_from = top_a[-1]+0.1\n",
    "            search_A_up_from = bottom_a[-1]-0.1\n",
    "            for a in np.linspace(search_A_up_from,bottom_a[-1]+0.1,N):\n",
    "                if np.bitwise_and(isStable(a,q,kappa,tol),isStable(-0.5*a,-0.5*q,kappa,tol)):\n",
    "                    bottom_a.append(a)\n",
    "                    bottom_q.append(q)\n",
    "                    break\n",
    "            for a in np.flip(np.linspace(top_a[-1]-0.1,search_A_down_from,N)):\n",
    "                if np.bitwise_and(isStable(a,q,kappa,tol),isStable(-0.5*a,-0.5*q,kappa,tol)):\n",
    "                    top_a.append(a)\n",
    "                    top_q.append(q)\n",
    "                    break\n",
    "    return [top_a,top_q,bottom_a,bottom_q]\n",
    "\n",
    "def rootFinderStability(q,k):\n",
    "    def alpha(a):\n",
    "        CheckValue = detMuVECTa(a,q,k)*np.sin(np.pi/2*np.sqrt(a-k**2))**2\n",
    "        if CheckValue > 1:\n",
    "            return np.real(2/np.pi/(np.arccosh(np.sqrt(CheckValue)))-k)\n",
    "        elif CheckValue > 0:\n",
    "            return np.real(0-k)\n",
    "        else:\n",
    "            return np.real(2/np.pi/(np.arcsinh(np.sqrt(-CheckValue)))-k)\n",
    "    return root(alpha,x0 = 0)\n",
    "\n",
    "\n",
    "\n",
    "def upper_a(q,kappa):\n",
    "    for a in np.flip(np.linspace(-0.5,0.5,500)):\n",
    "        if np.bitwise_and(isStable(a,q,kappa),isStable(-0.5*a,-0.5*q,kappa)):\n",
    "            break\n",
    "    return a\n",
    "def lower_a(q,kappa):\n",
    "    for a in np.linspace(-0.5,0.5,500):\n",
    "        if np.bitwise_and(isStable(a,q,kappa),isStable(-0.5*a,-0.5*q,kappa)):\n",
    "            break\n",
    "    return a\n",
    "\n",
    "def upper_a_VECTORIZED(qs,kappa):\n",
    "    result = []\n",
    "    for q in qs:\n",
    "        result.append(upper_a(q,kappa))\n",
    "    return np.array(result)\n"
   ]
  },
  {
   "cell_type": "code",
   "execution_count": null,
   "metadata": {},
   "outputs": [],
   "source": []
  },
  {
   "cell_type": "code",
   "execution_count": 11,
   "metadata": {},
   "outputs": [],
   "source": [
    "# a_array = np.linspace(-1,1,100)\n",
    "# q_array= np.linspace(0,1.5,100)\n",
    "\n",
    "# [topA,topQ,bottomA,bottomQ] = makeStabilityDiagramDEVELOP(a_array,q_array,0.002)\n",
    "# #[topA2,topQ2,bottomA2,bottomQ2] = makeStabilityDiagram(a_array,q_array,0.002)\n",
    "\n",
    "# plt.plot(topQ,topA,color = 'k')\n",
    "# plt.plot(bottomQ,bottomA,color = 'k')\n",
    "\n",
    "\n",
    "# # plt.plot(topQ2,topA2,color = 'k', ls = '--')\n",
    "# # plt.plot(bottomQ2,bottomA2,color = 'k', ls = '--')\n",
    "# plt.xlabel(r'$q_z$')\n",
    "# plt.ylabel(r'$a_z$')\n",
    "# plt.xlim(0,3)"
   ]
  },
  {
   "cell_type": "code",
   "execution_count": 4,
   "metadata": {},
   "outputs": [],
   "source": [
    "DATA_u = np.loadtxt(r'C:\\Users\\au581149\\PhD-Work\\Lab Stuff\\ESI\\BG_Pressure\\RB_upper_til_emil.txt')\n",
    "DATA_l = np.loadtxt(r'C:\\Users\\au581149\\PhD-Work\\Lab Stuff\\ESI\\BG_Pressure\\RB_lower_til_emil.txt')\n",
    "\n",
    "\n",
    "RF_l = DATA_l[:,0]\n",
    "DC_l = DATA_l[:,1]\n",
    "width_l = DATA_l[:,2]\n",
    "\n",
    "\n",
    "RF_u = DATA_u[:,0]\n",
    "DC_u = DATA_u[:,1]\n",
    "width_u = DATA_u[:,2]\n",
    "Omega = 2*np.pi*300*1e3\n",
    "m_to_z = 443\n",
    "zeta2 = 2.39*1e-4#(2.69-1.52*1e-4*m_to_z) * 1e-4\n",
    "\n",
    "\n",
    "def DC_to_az(DC,m_to_z,omega,zeta2):\n",
    "    elementary_charge = 1.6*1e-19\n",
    "    amu = 1.66*1e-27\n",
    "    return -16*elementary_charge*DC/(omega**2*zeta2*m_to_z*amu)\n",
    "def RF_to_qz(RF,m_to_z,omega,zeta2):\n",
    "    elementary_charge = 1.6*1e-19\n",
    "    amu = 1.66*1e-27\n",
    "    return 8*elementary_charge*RF/(omega**2*zeta2*m_to_z*amu)\n",
    "def az_to_DC(a,m_to_z,omega,zeta2):\n",
    "    elementary_charge = 1.6*1e-19\n",
    "    amu = 1.66*1e-27\n",
    "    return a/(-16*elementary_charge/(omega**2*zeta2*m_to_z*amu))\n",
    "def qz_to_RF(q,m_to_z,omega,zeta2):\n",
    "    elementary_charge = 1.6*1e-19\n",
    "    amu = 1.66*1e-27\n",
    "    return q/(8*elementary_charge/(omega**2*zeta2*m_to_z*amu))\n",
    "\n",
    "\n",
    "def DC_to_azp(DC):\n",
    "    elementary_charge = 1.6*1e-19\n",
    "    amu = 1.66*1e-27\n",
    "    return -16*elementary_charge*DC/(Omega**2*zeta2*m_to_z*amu)\n",
    "def RF_to_qzp(RF):\n",
    "    elementary_charge = 1.6*1e-19\n",
    "    amu = 1.66*1e-27\n",
    "    return 8*elementary_charge*RF/(Omega**2*zeta2*m_to_z*amu)\n",
    "def az_to_DCp(a):\n",
    "    elementary_charge = 1.6*1e-19\n",
    "    amu = 1.66*1e-27\n",
    "    return a/(-16*elementary_charge/(Omega**2*zeta2*m_to_z*amu))\n",
    "def qz_to_RFp(q):\n",
    "    elementary_charge = 1.6*1e-19\n",
    "    amu = 1.66*1e-27\n",
    "    return q/(8*elementary_charge/(Omega**2*zeta2*m_to_z*amu))\n",
    "\n",
    "\n",
    "# a_array = np.linspace(-2,1,1000)\n",
    "# q_array= RF_to_qz(RF_u,m_to_z,Omega,zeta2)\n",
    "\n",
    "# [topA,topQ,bottomA,bottomQ] = makeStabilityDiagramDEVELOP(a_array,q_array,0.22, N = 500)\n",
    "# fig, ax = plt.subplots()\n",
    "# ax.errorbar(RF_to_qz(RF_u,m_to_z,Omega,zeta2),DC_to_az(DC_u,m_to_z,Omega,zeta2),np.abs(DC_to_az(width_u,m_to_z,Omega,zeta2)), ls = '', marker = 'o')\n",
    "# ax.errorbar(RF_to_qz(RF_l,m_to_z,Omega,zeta2),DC_to_az(DC_l,m_to_z,Omega,zeta2),np.abs(DC_to_az(width_l,m_to_z,Omega,zeta2)), ls = '', marker = 'o')\n",
    "\n",
    "# [topA2,topQ2,bottomA2,bottomQ2] = makeStabilityDiagramDEVELOP(a_array,q_array,0, N = 500)\n",
    "\n",
    "# ax.plot(topQ2,topA2,color = 'k')\n",
    "# ax.plot(bottomQ2,bottomA2,color = 'k', label = rf'$\\kappa = {0}$')\n",
    "\n",
    "# ax.plot(topQ,topA,color = 'k', ls = '--')\n",
    "# ax.plot(bottomQ,bottomA,color = 'k', ls = '--', label = rf'$\\kappa = {0.22}$')\n",
    "# ax.set_xlabel(r'$q_z$')\n",
    "# ax.set_ylabel(r'$a_z$')\n",
    "# ax.legend()\n",
    "# ax2x = ax.secondary_xaxis('top',functions = (qz_to_RFp,RF_to_qzp))\n",
    "# ax2y = ax.secondary_yaxis('right',functions = (az_to_DCp,DC_to_azp))\n",
    "# ax2x.set_xlabel('RF Voltage / V')\n",
    "# ax2y.set_ylabel('DC Voltage / V')"
   ]
  },
  {
   "cell_type": "code",
   "execution_count": null,
   "metadata": {},
   "outputs": [],
   "source": []
  },
  {
   "cell_type": "code",
   "execution_count": 1,
   "metadata": {},
   "outputs": [],
   "source": [
    "# # # popt,pcov = curve_fit(upper_a_VECTORIZED,RF_to_qz(RF_u,m_to_z,Omega,zeta2),DC_to_az(DC_u,m_to_z,Omega,zeta2),p0 = 0.1,sigma = DC_to_az(width_u,m_to_z,Omega,zeta2),absolute_sigma= True)\n",
    "\n",
    "\n",
    "\n",
    "# # zeta_2 = 2.36 *1e-4\n",
    "# # plt.errorbar(RF_to_qz(RF_u,m_to_z,Omega,zeta2),DC_to_az(DC_u,m_to_z,Omega,zeta2),np.abs(DC_to_az(width_u,m_to_z,Omega,zeta2)), ls = '', marker = 'o')\n",
    "\n",
    "# squares = []\n",
    "# for kappa in np.linspace(0,0.5,100):\n",
    "#     upper_line = upper_a_VECTORIZED(RF_to_qz(RF_u,m_to_z,Omega,zeta2),kappa)\n",
    "#     S = np.sum((upper_line-DC_to_az(DC_u,m_to_z,Omega,zeta2))**2)\n",
    "#     squares.append(S)\n",
    "# print(rf'Best kappa is {np.linspace(0,0.5,100)[np.argmin(squares)]}')\n",
    "# print(S)\n",
    "# #plt.plot(RF_to_qz(RF_u,m_to_z,Omega,zeta2),upper_a_VECTORIZED(RF_to_qz(RF_u,m_to_z,Omega,zeta2),0.111111))"
   ]
  },
  {
   "cell_type": "code",
   "execution_count": 14,
   "metadata": {},
   "outputs": [],
   "source": [
    "# print(squares)\n",
    "# print(np.argmin(squares))\n",
    "# print(np.linspace(0,0.5,100)[np.argmin(squares)])"
   ]
  },
  {
   "cell_type": "code",
   "execution_count": 5,
   "metadata": {},
   "outputs": [
    {
     "name": "stdout",
     "output_type": "stream",
     "text": [
      "0\n",
      "0.2\n",
      "1\n"
     ]
    },
    {
     "name": "stderr",
     "output_type": "stream",
     "text": [
      "C:\\Users\\au581149\\AppData\\Local\\Temp\\ipykernel_16516\\1791347434.py:41: RuntimeWarning: invalid value encountered in divide\n",
      "  return q/((2*s-1j*mu)**2 -a + kappa**2)\n",
      "c:\\Users\\au581149\\AppData\\Local\\Programs\\Python\\Python312\\Lib\\site-packages\\numpy\\linalg\\linalg.py:2180: RuntimeWarning: invalid value encountered in det\n",
      "  r = _umath_linalg.det(a, signature=signature)\n",
      "C:\\Users\\au581149\\AppData\\Local\\Temp\\ipykernel_16516\\1791347434.py:79: RuntimeWarning: invalid value encountered in scalar divide\n",
      "  rel_diff = (np.linalg.det(currentMatrix)-np.linalg.det(nextMatrix))/np.linalg.det(currentMatrix)\n",
      "C:\\Users\\au581149\\AppData\\Local\\Temp\\ipykernel_16516\\1791347434.py:41: RuntimeWarning: divide by zero encountered in divide\n",
      "  return q/((2*s-1j*mu)**2 -a + kappa**2)\n"
     ]
    },
    {
     "data": {
      "text/plain": [
       "Text(0, 0.5, 'a')"
      ]
     },
     "execution_count": 5,
     "metadata": {},
     "output_type": "execute_result"
    },
    {
     "data": {
      "image/png": "[encoded data removed]",
      "text/plain": [
       "<Figure size 640x480 with 1 Axes>"
      ]
     },
     "metadata": {},
     "output_type": "display_data"
    }
   ],
   "source": [
    "%matplotlib inline\n",
    "kappaList = [0,0.2,1]\n",
    "#q_array = np.linspace(0,3,100)\n",
    "q_arrays = [np.linspace(0,1.5,100),np.linspace(0,2,100),np.linspace(0,3.5,100)]\n",
    "topAs = []\n",
    "bottomAs = []\n",
    "topQs = []\n",
    "bottomQs = []\n",
    "a_array = np.linspace(-1.5,1,150)\n",
    "fig,ax = plt.subplots()\n",
    "for kappa,q_array in zip(kappaList,q_arrays):\n",
    "    print(kappa)\n",
    "    [topA,topQ,bottomA,bottomQ] = makeStabilityDiagram(a_array,q_array,kappa)\n",
    "    topAs.append(topA)\n",
    "    bottomAs.append(bottomA)\n",
    "    topQs.append(topQ)\n",
    "    bottomQs.append(bottomQ)\n",
    "    ax.plot(topQ,topA)\n",
    "    ax.plot(bottomQ,bottomA)\n",
    "\n",
    "\n",
    "\n",
    "\n",
    "ax2x = ax.secondary_xaxis('top',functions = (qz_to_RFp,RF_to_qzp))\n",
    "ax2y = ax.secondary_yaxis('right',functions = (az_to_DCp,DC_to_azp))\n",
    "ax.set_xlabel('q')\n",
    "ax.set_ylabel('a')"
   ]
  },
  {
   "cell_type": "code",
   "execution_count": 16,
   "metadata": {},
   "outputs": [
    {
     "name": "stderr",
     "output_type": "stream",
     "text": [
      "Exception in Tkinter callback\n",
      "Traceback (most recent call last):\n",
      "  File \"c:\\Users\\au581149\\AppData\\Local\\Programs\\Python\\Python312\\Lib\\tkinter\\__init__.py\", line 1967, in __call__\n",
      "    return self.func(*args)\n",
      "           ^^^^^^^^^^^^^^^^\n",
      "  File \"c:\\Users\\au581149\\AppData\\Local\\Programs\\Python\\Python312\\Lib\\site-packages\\matplotlib\\backends\\_backend_tk.py\", line 552, in destroy\n",
      "    Gcf.destroy(self)\n",
      "  File \"c:\\Users\\au581149\\AppData\\Local\\Programs\\Python\\Python312\\Lib\\site-packages\\matplotlib\\_pylab_helpers.py\", line 66, in destroy\n",
      "    manager.destroy()\n",
      "  File \"c:\\Users\\au581149\\AppData\\Local\\Programs\\Python\\Python312\\Lib\\site-packages\\matplotlib\\backends\\_backend_tk.py\", line 569, in destroy\n",
      "    self._window_dpi.trace_remove('write', self._window_dpi_cbname)\n",
      "  File \"c:\\Users\\au581149\\AppData\\Local\\Programs\\Python\\Python312\\Lib\\tkinter\\__init__.py\", line 477, in trace_remove\n",
      "    self._tk.deletecommand(cbname)\n",
      "_tkinter.TclError: can't delete Tcl command\n"
     ]
    },
    {
     "data": {
      "text/plain": [
       "[<matplotlib.lines.Line2D at 0x1a36640a810>]"
      ]
     },
     "execution_count": 16,
     "metadata": {},
     "output_type": "execute_result"
    },
    {
     "data": {
      "image/png": "[encoded data removed]",
      "text/plain": [
       "<Figure size 640x480 with 1 Axes>"
      ]
     },
     "metadata": {},
     "output_type": "display_data"
    }
   ],
   "source": [
    "plt.plot(topQ,topA)\n",
    "plt.plot(bottomQ,bottomA)"
   ]
  },
  {
   "cell_type": "code",
   "execution_count": 17,
   "metadata": {},
   "outputs": [
    {
     "data": {
      "text/plain": [
       "Text(0, 0.5, 'DC Voltage / V')"
      ]
     },
     "execution_count": 17,
     "metadata": {},
     "output_type": "execute_result"
    }
   ],
   "source": [
    "%matplotlib tk\n",
    "linestyles = ['solid','dotted','dashed','dashdot']\n",
    "fig, ax = plt.subplots()\n",
    "for topA,bottomA,topQ,bottomQ,kappa,linestyle in zip(topAs,bottomAs,topQs,bottomQs,kappaList,linestyles):\n",
    "    ax.plot(topQ,topA, color = 'k', ls = linestyle, label = rf'$\\kappa = {kappa}$')\n",
    "    ax.plot(bottomQ,bottomA, color = 'k', ls = linestyle)\n",
    "ax.legend()\n",
    "ax.set_xlabel(r'$q_z$')\n",
    "ax.set_ylabel(r'$a_z$')\n",
    "ax2x = ax.secondary_xaxis('top',functions = (qz_to_RFp,RF_to_qzp))\n",
    "ax2y = ax.secondary_yaxis('right',functions = (az_to_DCp,DC_to_azp))\n",
    "ax2x.set_xlabel('RF Voltage / V')\n",
    "ax2y.set_ylabel('DC Voltage / V')"
   ]
  },
  {
   "cell_type": "code",
   "execution_count": 18,
   "metadata": {},
   "outputs": [
    {
     "data": {
      "text/plain": [
       "Text(0, 0.5, 'DC Voltage / V')"
      ]
     },
     "execution_count": 18,
     "metadata": {},
     "output_type": "execute_result"
    }
   ],
   "source": [
    "linestyles = ['solid','dotted','dashed','dashdot']\n",
    "fig, ax = plt.subplots()\n",
    "for topA,bottomA,topQ,bottomQ,kappa,linestyle in zip(topAs[0:3],bottomAs[0:3],topQs[0:3],bottomQs[0:3],kappaList[0:3],linestyles[0:3]):\n",
    "    ax.plot(topQ,topA, color = 'k', ls = linestyle, label = rf'$\\kappa = {kappa}$')\n",
    "    ax.plot(bottomQ,bottomA, color = 'k', ls = linestyle)\n",
    "ax.legend()\n",
    "ax.set_xlim(0,1.5)\n",
    "ax.set_ylim(-0.8,0.3)\n",
    "ax.set_xlabel(r'$q_z$')\n",
    "ax.set_ylabel(r'$a_z$')\n",
    "ax2x = ax.secondary_xaxis('top',functions = (qz_to_RFp,RF_to_qzp))\n",
    "ax2y = ax.secondary_yaxis('right',functions = (az_to_DCp,DC_to_azp))\n",
    "ax2x.set_xlabel('RF Voltage / V')\n",
    "ax2y.set_ylabel('DC Voltage / V')"
   ]
  },
  {
   "cell_type": "code",
   "execution_count": null,
   "metadata": {},
   "outputs": [
    {
     "name": "stdout",
     "output_type": "stream",
     "text": [
      "-0.01632653061224487 0.18181818181818182\n"
     ]
    },
    {
     "ename": "",
     "evalue": "",
     "output_type": "error",
     "traceback": [
      "\u001b[1;31mThe Kernel crashed while executing code in the current cell or a previous cell. \n",
      "\u001b[1;31mPlease review the code in the cell(s) to identify a possible cause of the failure. \n",
      "\u001b[1;31mClick <a href='https://aka.ms/vscodeJupyterKernelCrash'>here</a> for more info. \n",
      "\u001b[1;31mView Jupyter <a href='command:jupyter.viewOutput'>log</a> for further details."
     ]
    }
   ],
   "source": [
    "fig,ax = plt.subplots()\n",
    "q_array = np.linspace(0,1.5,100)\n",
    "a_array = np.linspace(-0.8,0.4)\n",
    "[topA,topQ,bottomA,bottomQ] = makeStabilityDiagramDEVELOP(a_array,q_array,0.01)\n",
    "\n"
   ]
  },
  {
   "cell_type": "code",
   "execution_count": 10,
   "metadata": {},
   "outputs": [
    {
     "ename": "KeyboardInterrupt",
     "evalue": "",
     "output_type": "error",
     "traceback": [
      "\u001b[1;31m---------------------------------------------------------------------------\u001b[0m",
      "\u001b[1;31mKeyboardInterrupt\u001b[0m                         Traceback (most recent call last)",
      "Cell \u001b[1;32mIn[10], line 4\u001b[0m\n\u001b[0;32m      1\u001b[0m q_array \u001b[38;5;241m=\u001b[39m np\u001b[38;5;241m.\u001b[39mlinspace(\u001b[38;5;241m0.845\u001b[39m,\u001b[38;5;241m860\u001b[39m,\u001b[38;5;241m1000\u001b[39m)\n\u001b[0;32m      2\u001b[0m a_array \u001b[38;5;241m=\u001b[39m np\u001b[38;5;241m.\u001b[39mlinspace(\u001b[38;5;241m0.15\u001b[39m,\u001b[38;5;241m0.175\u001b[39m,\u001b[38;5;241m1000\u001b[39m)\n\u001b[1;32m----> 4\u001b[0m [topA,topQ,bottomA,bottomQ] \u001b[38;5;241m=\u001b[39m \u001b[43mmakeStabilityDiagram\u001b[49m\u001b[43m(\u001b[49m\u001b[43ma_array\u001b[49m\u001b[43m,\u001b[49m\u001b[43mq_array\u001b[49m\u001b[43m,\u001b[49m\u001b[38;5;241;43m0.2\u001b[39;49m\u001b[43m)\u001b[49m\n\u001b[0;32m      5\u001b[0m \u001b[38;5;66;03m# [topA2,topQ2,bottomA2,bottomQ2] = makeStabilityDiagram(a_array,q_array,0.0)\u001b[39;00m\n",
      "Cell \u001b[1;32mIn[3], line 123\u001b[0m, in \u001b[0;36mmakeStabilityDiagram\u001b[1;34m(a_array, q_array, kappa, tol)\u001b[0m\n\u001b[0;32m    119\u001b[0m \u001b[38;5;28;01mfor\u001b[39;00m idx,q \u001b[38;5;129;01min\u001b[39;00m \u001b[38;5;28menumerate\u001b[39m(q_array):\n\u001b[0;32m    120\u001b[0m     \u001b[38;5;66;03m#print(rf'At index {idx} out of {len(q_array)}')\u001b[39;00m\n\u001b[0;32m    121\u001b[0m     \u001b[38;5;66;03m#Bottom Line\u001b[39;00m\n\u001b[0;32m    122\u001b[0m     \u001b[38;5;28;01mfor\u001b[39;00m a \u001b[38;5;129;01min\u001b[39;00m a_array:\n\u001b[1;32m--> 123\u001b[0m         \u001b[38;5;28;01mif\u001b[39;00m np\u001b[38;5;241m.\u001b[39mbitwise_and(\u001b[43misStable\u001b[49m\u001b[43m(\u001b[49m\u001b[43ma\u001b[49m\u001b[43m,\u001b[49m\u001b[43mq\u001b[49m\u001b[43m,\u001b[49m\u001b[43mkappa\u001b[49m\u001b[43m,\u001b[49m\u001b[43mtol\u001b[49m\u001b[43m)\u001b[49m,isStable(\u001b[38;5;241m-\u001b[39m\u001b[38;5;241m0.5\u001b[39m\u001b[38;5;241m*\u001b[39ma,\u001b[38;5;241m-\u001b[39m\u001b[38;5;241m0.5\u001b[39m\u001b[38;5;241m*\u001b[39mq,kappa,tol)):\n\u001b[0;32m    124\u001b[0m             bottom_a\u001b[38;5;241m.\u001b[39mappend(a)\n\u001b[0;32m    125\u001b[0m             bottom_q\u001b[38;5;241m.\u001b[39mappend(q)\n",
      "Cell \u001b[1;32mIn[3], line 89\u001b[0m, in \u001b[0;36misStable\u001b[1;34m(a, q, kappa, tol)\u001b[0m\n\u001b[0;32m     88\u001b[0m \u001b[38;5;28;01mdef\u001b[39;00m \u001b[38;5;21misStable\u001b[39m(a,q,kappa, tol \u001b[38;5;241m=\u001b[39m \u001b[38;5;241m1e-3\u001b[39m):\n\u001b[1;32m---> 89\u001b[0m     detVal \u001b[38;5;241m=\u001b[39m \u001b[43mdetMu\u001b[49m\u001b[43m(\u001b[49m\u001b[43ma\u001b[49m\u001b[43m,\u001b[49m\u001b[43mq\u001b[49m\u001b[43m,\u001b[49m\u001b[43mkappa\u001b[49m\u001b[43m,\u001b[49m\u001b[43mtol\u001b[49m\u001b[43m)\u001b[49m\n\u001b[0;32m     90\u001b[0m     checkValue \u001b[38;5;241m=\u001b[39m detVal\u001b[38;5;241m*\u001b[39m(np\u001b[38;5;241m.\u001b[39msin(np\u001b[38;5;241m.\u001b[39mpi\u001b[38;5;241m/\u001b[39m\u001b[38;5;241m2\u001b[39m \u001b[38;5;241m*\u001b[39m np\u001b[38;5;241m.\u001b[39msqrt(a\u001b[38;5;241m-\u001b[39mkappa\u001b[38;5;241m*\u001b[39m\u001b[38;5;241m*\u001b[39m\u001b[38;5;241m2\u001b[39m,dtype \u001b[38;5;241m=\u001b[39m np\u001b[38;5;241m.\u001b[39mcomplex128)))\u001b[38;5;241m*\u001b[39m\u001b[38;5;241m*\u001b[39m\u001b[38;5;241m2\u001b[39m\n\u001b[0;32m     91\u001b[0m     \u001b[38;5;28;01mif\u001b[39;00m checkValue \u001b[38;5;241m>\u001b[39m \u001b[38;5;241m1\u001b[39m: \u001b[38;5;66;03m###CASE 1\u001b[39;00m\n",
      "Cell \u001b[1;32mIn[3], line 85\u001b[0m, in \u001b[0;36mdetMu\u001b[1;34m(a, q, kappa, tol, mu)\u001b[0m\n\u001b[0;32m     83\u001b[0m     currentMatrix \u001b[38;5;241m=\u001b[39m makeMatrix(a,q,kappa,currentS,mu)\n\u001b[0;32m     84\u001b[0m     nextMatrix \u001b[38;5;241m=\u001b[39m makeMatrix(a,q,kappa,nextS,mu)\n\u001b[1;32m---> 85\u001b[0m     rel_diff \u001b[38;5;241m=\u001b[39m (np\u001b[38;5;241m.\u001b[39mlinalg\u001b[38;5;241m.\u001b[39mdet(currentMatrix)\u001b[38;5;241m-\u001b[39m\u001b[43mnp\u001b[49m\u001b[38;5;241;43m.\u001b[39;49m\u001b[43mlinalg\u001b[49m\u001b[38;5;241;43m.\u001b[39;49m\u001b[43mdet\u001b[49m\u001b[43m(\u001b[49m\u001b[43mnextMatrix\u001b[49m\u001b[43m)\u001b[49m)\u001b[38;5;241m/\u001b[39mnp\u001b[38;5;241m.\u001b[39mlinalg\u001b[38;5;241m.\u001b[39mdet(currentMatrix)\n\u001b[0;32m     86\u001b[0m \u001b[38;5;28;01mreturn\u001b[39;00m np\u001b[38;5;241m.\u001b[39mlinalg\u001b[38;5;241m.\u001b[39mdet(currentMatrix)\n",
      "File \u001b[1;32mc:\\Users\\au581149\\AppData\\Local\\Programs\\Python\\Python312\\Lib\\site-packages\\numpy\\linalg\\linalg.py:2181\u001b[0m, in \u001b[0;36mdet\u001b[1;34m(a)\u001b[0m\n\u001b[0;32m   2179\u001b[0m signature \u001b[38;5;241m=\u001b[39m \u001b[38;5;124m'\u001b[39m\u001b[38;5;124mD->D\u001b[39m\u001b[38;5;124m'\u001b[39m \u001b[38;5;28;01mif\u001b[39;00m isComplexType(t) \u001b[38;5;28;01melse\u001b[39;00m \u001b[38;5;124m'\u001b[39m\u001b[38;5;124md->d\u001b[39m\u001b[38;5;124m'\u001b[39m\n\u001b[0;32m   2180\u001b[0m r \u001b[38;5;241m=\u001b[39m _umath_linalg\u001b[38;5;241m.\u001b[39mdet(a, signature\u001b[38;5;241m=\u001b[39msignature)\n\u001b[1;32m-> 2181\u001b[0m r \u001b[38;5;241m=\u001b[39m \u001b[43mr\u001b[49m\u001b[38;5;241;43m.\u001b[39;49m\u001b[43mastype\u001b[49m\u001b[43m(\u001b[49m\u001b[43mresult_t\u001b[49m\u001b[43m,\u001b[49m\u001b[43m \u001b[49m\u001b[43mcopy\u001b[49m\u001b[38;5;241;43m=\u001b[39;49m\u001b[38;5;28;43;01mFalse\u001b[39;49;00m\u001b[43m)\u001b[49m\n\u001b[0;32m   2182\u001b[0m \u001b[38;5;28;01mreturn\u001b[39;00m r\n",
      "\u001b[1;31mKeyboardInterrupt\u001b[0m: "
     ]
    }
   ],
   "source": [
    "q_array = np.linspace(0.845,860,1000)\n",
    "a_array = np.linspace(0.15,0.175,1000)\n",
    "\n",
    "[topA,topQ,bottomA,bottomQ] = makeStabilityDiagram(a_array,q_array,0.2)\n",
    "# [topA2,topQ2,bottomA2,bottomQ2] = makeStabilityDiagram(a_array,q_array,0.0)\n",
    "\n"
   ]
  },
  {
   "cell_type": "code",
   "execution_count": 8,
   "metadata": {},
   "outputs": [
    {
     "data": {
      "text/plain": [
       "<matplotlib.legend.Legend at 0x228c3b02f30>"
      ]
     },
     "execution_count": 8,
     "metadata": {},
     "output_type": "execute_result"
    }
   ],
   "source": [
    "%matplotlib tk\n",
    "\n",
    "fig,ax = plt.subplots()\n",
    "\n",
    "plt.plot(topQ,topA,color = 'red')\n",
    "plt.plot(np.array(topQ)*444/443,np.array(topA)*444/443, color = 'green')\n",
    "plt.plot(np.array(topQ)*445/443,np.array(topA)*445/443, color = 'blue')\n",
    "\n",
    "\n",
    "plt.plot(topQ2,topA2,color = 'red', ls = '--')\n",
    "plt.plot(np.array(topQ2)*444/443,np.array(topA2)*444/443, color = 'green', ls = '--')\n",
    "plt.plot(np.array(topQ2)*445/443,np.array(topA2)*445/443, color = 'blue', ls = '--')\n",
    "# plt.xlim(0.77,0.85)\n",
    "# plt.ylim(0.145,0.151)\n",
    "ax2x = ax.secondary_xaxis('top',functions = (qz_to_RFp,RF_to_qzp))\n",
    "ax2y = ax.secondary_yaxis('right',functions = (az_to_DCp,DC_to_azp))\n",
    "ax2x.set_xlabel('RF Voltage / V')\n",
    "ax2y.set_ylabel('DC Voltage / V')\n",
    "ax.set_xlabel(r'$q_{z,443}$')\n",
    "ax.set_ylabel(r'$a_{z,443}$')\n",
    "ax.plot([],[],ls = '--',color = 'k', label = r'$\\kappa = 0$')\n",
    "ax.plot([],[],ls = '-',color = 'k', label = r'$\\kappa = 0.01$')\n",
    "ax.scatter([],[],color = 'r',label = 'm = 443')\n",
    "ax.scatter([],[],color = 'g',label = 'm = 444')\n",
    "ax.scatter([],[],color = 'b',label = 'm = 445')\n",
    "ax.legend()"
   ]
  },
  {
   "cell_type": "code",
   "execution_count": null,
   "metadata": {},
   "outputs": [
    {
     "name": "stdout",
     "output_type": "stream",
     "text": [
      "[-35.78320353 -35.70330633 -35.63169512]\n",
      "[0.0798972  0.07161121]\n"
     ]
    }
   ],
   "source": [
    "print(az_to_DC(np.array([0.148557,0.1482253,0.147928]),443,300*2*np.pi*1e3,2.36*1e-4))\n",
    "print(np.diff(az_to_DC(np.array([0.148557,0.1482253,0.147928]),443,300*2*np.pi*1e3,2.36*1e-4)))"
   ]
  },
  {
   "cell_type": "code",
   "execution_count": null,
   "metadata": {},
   "outputs": [
    {
     "name": "stdout",
     "output_type": "stream",
     "text": [
      "[376.58391096 377.58593797 378.57351267]\n",
      "[1.00202701 0.9875747 ]\n"
     ]
    }
   ],
   "source": [
    "print(qz_to_RF(np.array([0.78171,0.78379,0.78584]),443,300*2*np.pi*1e3,2.36*1e-4))\n",
    "print(np.diff(qz_to_RF(np.array([0.78171,0.78379,0.78584]),443,300*2*np.pi*1e3,2.36*1e-4)))"
   ]
  }
 ],
 "metadata": {
  "kernelspec": {
   "display_name": "Python 3",
   "language": "python",
   "name": "python3"
  },
  "language_info": {
   "codemirror_mode": {
    "name": "ipython",
    "version": 3
   },
   "file_extension": ".py",
   "mimetype": "text/x-python",
   "name": "python",
   "nbconvert_exporter": "python",
   "pygments_lexer": "ipython3",
   "version": "3.12.3"
  }
 },
 "nbformat": 4,
 "nbformat_minor": 2
}

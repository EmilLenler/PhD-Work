{
 "cells": [
  {
   "cell_type": "code",
   "execution_count": 1,
   "metadata": {},
   "outputs": [],
   "source": [
    "import time\n",
    "import ctypes\n",
    "import pyvisa\n",
    "\n",
    "# Load the DLL\n",
    "dll = ctypes.cdll.LoadLibrary(\"C:\\\\Program Files\\\\ConSys\\\\CSAPI.dll\")\n",
    "\n",
    "dll.RegisterParameterStringEx1.restype = ctypes.c_long\n",
    "dll.RegisterParameterStringEx1.argtypes = [ctypes.c_char_p, ctypes.c_int, ctypes.c_ushort]\n",
    "\n",
    "dll.DeRegister.restype = None\n",
    "dll.DeRegister.argtypes = [ctypes.c_long]\n",
    "\n",
    "dll.SetValue.restype = None\n",
    "dll.SetValue.argtypes = [ctypes.c_long, ctypes.c_long, ctypes.c_double]\n",
    "\n",
    "dll.GetValue.restype = ctypes.c_double\n",
    "dll.GetValue.argtypes = [ctypes.c_long, ctypes.c_long]"
   ]
  },
  {
   "cell_type": "code",
   "execution_count": 14,
   "metadata": {},
   "outputs": [],
   "source": [
    "consys_parameters_string = {\"RF\":  \"PAUL1_RFAmpqopt.cU\"}\n",
    "consys_parameters_id = {\"RF\":  0}\n",
    "param_string = bytes(consys_parameters_string['RF'],'utf-8')\n",
    "lshandle = dll.RegisterParameterStringEx1(param_string, len(param_string),0)\n",
    "# dll.SetValue(lshandle, consys_parameters_id['RF'], 50)"
   ]
  },
  {
   "cell_type": "code",
   "execution_count": 3,
   "metadata": {},
   "outputs": [
    {
     "data": {
      "text/plain": [
       "('USB0::0x1AB1::0x0610::HDO4A244801517::INSTR',\n",
       " 'TCPIP0::cryo-rf-2chan.local::inst0::INSTR',\n",
       " 'TCPIP0::cryo-scope.local::inst0::INSTR',\n",
       " 'TCPIP0::10.28.1.202::hislip0::INSTR',\n",
       " 'TCPIP0::10.28.1.202::inst0::INSTR',\n",
       " 'ASRL3::INSTR',\n",
       " 'ASRL4::INSTR')"
      ]
     },
     "execution_count": 3,
     "metadata": {},
     "output_type": "execute_result"
    }
   ],
   "source": [
    "rm = pyvisa.ResourceManager()\n",
    "rm.list_resources()\n",
    "inst = rm.open_resource('USB0::0x1AB1::0x0610::HDO4A244801517::INSTR')\n",
    "inst.query(\"*IDN?\")\n",
    "filename = \"scope_log_20240930_RF_2VDiv_.txt\"\n",
    "\n",
    "with open(filename, \"w\") as file:\n",
    "    file.write(f\"time.time(), c1pp, vset\\n\") # c1rms, c3rms, c1pp, c3pp\\n\")\n",
    "\n",
    "vMin = 299\n",
    "maxVSet = 600\n",
    "VSet = vMin\n",
    "dll.SetValue(lshandle, consys_parameters_id['RF'], vMin)\n",
    "time.sleep(1)\n",
    "\n",
    "while VSet<maxVSet:\n",
    "    with open(filename, \"a\") as file:\n",
    "        # c1rms = inst.query(\":MEASure:ITEM? VRMS,CHANnel1 \").strip()\n",
    "        #c3rms = inst.query(\":MEASure:ITEM? VRMS,CHANnel3 \").strip()\n",
    "\n",
    "        #c1pp = inst.query(\":MEASure:ITEM? VPP,CHANnel1 \").strip()\n",
    "        #c3pp = inst.query(\":MEASure:ITEM? VPP,CHANnel3 \").strip()\n",
    "        dll.SetValue(lshandle, consys_parameters_id['RF'], VSet)\n",
    "        counter = 0\n",
    "        while counter<10:\n",
    "            c1pp = inst.query(\":MEASure:ITEM? VPP,CHANnel1 \").strip()\n",
    "\n",
    "            file.write(f\"{time.time()}, {c1pp}, {VSet}\\n\") #{c1rms}, {c3rms}, {c1pp}, {c3pp}\\n\")\n",
    "            counter +=1\n",
    "            time.sleep(0.1)\n",
    "        VSet+=1\n",
    "        time.sleep(1)\n"
   ]
  },
  {
   "cell_type": "code",
   "execution_count": 9,
   "metadata": {},
   "outputs": [],
   "source": [
    "dll.DeRegister(lshandle)"
   ]
  },
  {
   "cell_type": "code",
   "execution_count": 10,
   "metadata": {},
   "outputs": [
    {
     "name": "stdout",
     "output_type": "stream",
     "text": [
      "Python interpreter bitness: 64bit\n"
     ]
    }
   ],
   "source": [
    "import platform\n",
    "\n",
    "bitness, _ = platform.architecture()\n",
    "\n",
    "print(\"Python interpreter bitness:\", bitness)"
   ]
  }
 ],
 "metadata": {
  "kernelspec": {
   "display_name": "Python 3",
   "language": "python",
   "name": "python3"
  },
  "language_info": {
   "codemirror_mode": {
    "name": "ipython",
    "version": 3
   },
   "file_extension": ".py",
   "mimetype": "text/x-python",
   "name": "python",
   "nbconvert_exporter": "python",
   "pygments_lexer": "ipython3",
   "version": "3.12.0"
  }
 },
 "nbformat": 4,
 "nbformat_minor": 2
}

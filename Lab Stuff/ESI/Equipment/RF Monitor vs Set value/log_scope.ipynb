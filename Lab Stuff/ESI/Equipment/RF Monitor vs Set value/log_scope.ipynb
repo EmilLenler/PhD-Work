{
 "cells": [
  {
   "cell_type": "code",
   "execution_count": 3,
   "metadata": {},
   "outputs": [
    {
     "name": "stderr",
     "output_type": "stream",
     "text": [
      "c:\\Users\\shd-iontrap-lab\\AppData\\Local\\Programs\\Python\\Python312\\Lib\\site-packages\\pyvisa_py\\tcpip.py:122: UserWarning: TCPIP::hislip resource discovery requires the zeroconf package to be installed... try 'pip install zeroconf'\n",
      "  warnings.warn(\n"
     ]
    },
    {
     "ename": "NameError",
     "evalue": "name 'c1pp' is not defined",
     "output_type": "error",
     "traceback": [
      "\u001b[1;31m---------------------------------------------------------------------------\u001b[0m",
      "\u001b[1;31mNameError\u001b[0m                                 Traceback (most recent call last)",
      "Cell \u001b[1;32mIn[3], line 22\u001b[0m\n\u001b[0;32m     14\u001b[0m \u001b[38;5;28;01mwith\u001b[39;00m \u001b[38;5;28mopen\u001b[39m(filename, \u001b[38;5;124m\"\u001b[39m\u001b[38;5;124ma\u001b[39m\u001b[38;5;124m\"\u001b[39m) \u001b[38;5;28;01mas\u001b[39;00m file:\n\u001b[0;32m     15\u001b[0m     \u001b[38;5;66;03m# c1rms = inst.query(\":MEASure:ITEM? VRMS,CHANnel1 \").strip()\u001b[39;00m\n\u001b[0;32m     16\u001b[0m     \u001b[38;5;66;03m#c3rms = inst.query(\":MEASure:ITEM? VRMS,CHANnel3 \").strip()\u001b[39;00m\n\u001b[0;32m     17\u001b[0m \n\u001b[0;32m     18\u001b[0m     \u001b[38;5;66;03m#c1pp = inst.query(\":MEASure:ITEM? VPP,CHANnel1 \").strip()\u001b[39;00m\n\u001b[0;32m     19\u001b[0m     \u001b[38;5;66;03m#c3pp = inst.query(\":MEASure:ITEM? VPP,CHANnel3 \").strip()\u001b[39;00m\n\u001b[0;32m     20\u001b[0m     c2vavg \u001b[38;5;241m=\u001b[39m inst\u001b[38;5;241m.\u001b[39mquery(\u001b[38;5;124m\"\u001b[39m\u001b[38;5;124m:MEASure:ITEM? VPP,CHANnel1 \u001b[39m\u001b[38;5;124m\"\u001b[39m)\u001b[38;5;241m.\u001b[39mstrip()\n\u001b[1;32m---> 22\u001b[0m     file\u001b[38;5;241m.\u001b[39mwrite(\u001b[38;5;124mf\u001b[39m\u001b[38;5;124m\"\u001b[39m\u001b[38;5;132;01m{\u001b[39;00mtime\u001b[38;5;241m.\u001b[39mtime()\u001b[38;5;132;01m}\u001b[39;00m\u001b[38;5;124m, \u001b[39m\u001b[38;5;132;01m{\u001b[39;00m\u001b[43mc1pp\u001b[49m\u001b[38;5;132;01m}\u001b[39;00m\u001b[38;5;130;01m\\n\u001b[39;00m\u001b[38;5;124m\"\u001b[39m) \u001b[38;5;66;03m#{c1rms}, {c3rms}, {c1pp}, {c3pp}\\n\")\u001b[39;00m\n\u001b[0;32m     23\u001b[0m     time\u001b[38;5;241m.\u001b[39msleep(\u001b[38;5;241m0.1\u001b[39m)\n",
      "\u001b[1;31mNameError\u001b[0m: name 'c1pp' is not defined"
     ]
    }
   ],
   "source": [
    "import pyvisa\n",
    "import time\n",
    "\n",
    "rm = pyvisa.ResourceManager()\n",
    "rm.list_resources()\n",
    "inst = rm.open_resource(\"TCPIP::10.28.1.153::INSTR\")\n",
    "inst.query(\"*IDN?\")\n",
    "filename = \"scope_log_20240927_RF_200mvDiv_.txt\"\n",
    "\n",
    "with open(filename, \"w\") as file:\n",
    "    file.write(f\"time.time(), c1pp\\n\") # c1rms, c3rms, c1pp, c3pp\\n\")\n",
    "\n",
    "while True:\n",
    "    with open(filename, \"a\") as file:\n",
    "        # c1rms = inst.query(\":MEASure:ITEM? VRMS,CHANnel1 \").strip()\n",
    "        #c3rms = inst.query(\":MEASure:ITEM? VRMS,CHANnel3 \").strip()\n",
    "\n",
    "        #c1pp = inst.query(\":MEASure:ITEM? VPP,CHANnel1 \").strip()\n",
    "        #c3pp = inst.query(\":MEASure:ITEM? VPP,CHANnel3 \").strip()\n",
    "        c1pp = inst.query(\":MEASure:ITEM? VPP,CHANnel2 \").strip()\n",
    "\n",
    "        file.write(f\"{time.time()}, {c1pp}\\n\") #{c1rms}, {c3rms}, {c1pp}, {c3pp}\\n\")\n",
    "        time.sleep(0.1)"
   ]
  },
  {
   "cell_type": "code",
   "execution_count": null,
   "metadata": {},
   "outputs": [],
   "source": []
  }
 ],
 "metadata": {
  "kernelspec": {
   "display_name": "Python 3",
   "language": "python",
   "name": "python3"
  },
  "language_info": {
   "codemirror_mode": {
    "name": "ipython",
    "version": 3
   },
   "file_extension": ".py",
   "mimetype": "text/x-python",
   "name": "python",
   "nbconvert_exporter": "python",
   "pygments_lexer": "ipython3",
   "version": "3.12.0"
  }
 },
 "nbformat": 4,
 "nbformat_minor": 2
}

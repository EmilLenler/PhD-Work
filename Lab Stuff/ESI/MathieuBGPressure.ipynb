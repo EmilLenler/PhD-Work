{
 "cells": [
  {
   "cell_type": "code",
   "execution_count": 246,
   "metadata": {},
   "outputs": [],
   "source": [
    "import matplotlib.pyplot as plt\n",
    "import numpy as np\n"
   ]
  },
  {
   "cell_type": "code",
   "execution_count": 247,
   "metadata": {},
   "outputs": [],
   "source": [
    "#Create the matrix as defined by Uehara:\n",
    "\n",
    "def chi(a,q,kappa,s,mu = 0):\n",
    "    #\n",
    "    # PARAMETERS\n",
    "    # a - a value for the trap\n",
    "    # q - q value for the trap\n",
    "    # kappa - friction term, see Hasegawa & Uehara for further details\n",
    "    # s - integer number for which chi is defined\n",
    "    # mu - complex number\n",
    "    #\n",
    "    #\n",
    "    # RETURN\n",
    "    # chi - chi_s(a,q,kappa)  as defined by Hasegawa & Uehara\n",
    "    return q/((2*s-1j*mu)**2 -a + kappa**2)\n",
    "    #return s\n",
    "\n",
    "\n",
    "def makeMatrix(a,q,kappa,S_max, mu= 0):\n",
    "    #\n",
    "    # PARAMETERS\n",
    "    # a - a value for trapping\n",
    "    # q - q value for trapping\n",
    "    # kappa - friction term, see Hasegawa & Uehara for further details\n",
    "    # S_max - max value for which to compute chi_s matrix\n",
    "    # \n",
    "    # RETURN\n",
    "    # tridiagonal matrix as defined by Hasegawa & Uehara of dimension 2*S_max + 1\n",
    "    matrix = np.identity(2*S_max+1,dtype = np.complex128)\n",
    "    length = matrix.shape[0]\n",
    "    matrix[0,1] = chi(a,q,kappa,-S_max)\n",
    "    matrix[length-1,length-2] = chi(a,q,kappa,S_max)\n",
    "    for j in range(1,length-1):\n",
    "        s = j-S_max\n",
    "        matrix[j,j+1] = chi(a,q,kappa,s,mu)\n",
    "        matrix[j,j-1] = chi(a,q,kappa,-s,mu)\n",
    "    return matrix\n",
    "\n",
    "def detMu(a,q,kappa,tol = 1e-3,mu = 0):\n",
    "    #Approximate Delta(mu) as defined by Hasegawa & Uehara\n",
    "    #\n",
    "    # PARAMETERS\n",
    "    # a - a value for trapping\n",
    "    # q - q value for trapping\n",
    "    # kappa - friction term, see Hasegawa & Uehara for further details\n",
    "    # tol - relative tolerance at which to stop calculating\n",
    "    \n",
    "    \n",
    "    currentS = 1\n",
    "    nextS = 2\n",
    "    currentMatrix = makeMatrix(a,q,kappa,currentS)\n",
    "    nextMatrix = makeMatrix(a,q,kappa,nextS)\n",
    "    rel_diff = (np.linalg.det(currentMatrix)-np.linalg.det(nextMatrix))/np.linalg.det(currentMatrix)\n",
    "    while np.abs(rel_diff) > tol:\n",
    "        nextS +=1\n",
    "        currentS +=1\n",
    "        currentMatrix = makeMatrix(a,q,kappa,currentS,mu)\n",
    "        nextMatrix = makeMatrix(a,q,kappa,nextS,mu)\n",
    "        rel_diff = (np.linalg.det(currentMatrix)-np.linalg.det(nextMatrix))/np.linalg.det(currentMatrix)\n",
    "    return np.linalg.det(currentMatrix)#, currentS\n",
    "\n",
    "def isStable(a,q,kappa, tol = 1e-3):\n",
    "    detVal = detMu(a,q,kappa,tol)\n",
    "    checkValue = detVal*(np.sin(np.pi/2 * np.sqrt(a-kappa**2,dtype = np.complex128)))**2\n",
    "    if checkValue > 1: ###CASE 1\n",
    "        alpha = 2/np.pi * np.arccosh(np.sqrt(checkValue,dtype = np.complex128))\n",
    "        if alpha <= kappa:\n",
    "            return True\n",
    "        else:\n",
    "            return False\n",
    "    elif checkValue >= 0: ###CASE 2\n",
    "        return True \n",
    "    else: ###CASE 3\n",
    "        alpha = 2/np.pi * np.arcsinh(np.sqrt(-checkValue,dtype = np.complex128))\n",
    "        if alpha <= kappa:\n",
    "            return True\n",
    "        else:\n",
    "            return False\n",
    "\n",
    "\n",
    "def makeStabilityDiagram(a_array,q_array,kappa,tol = 1e-3):\n",
    "    # \n",
    "    # PARAMETERS\n",
    "    # a - array of a values for which to determine stability over\n",
    "    # q - array of q values over which to determine stability over\n",
    "    # kappa- friction term, see Hasegawa & Uehara for further details\n",
    "    \n",
    "\n",
    "    top_a = []\n",
    "    top_q = []\n",
    "    bottom_a = []\n",
    "    bottom_q = []\n",
    "    for idx,q in enumerate(q_array):\n",
    "        #print(rf'At index {idx} out of {len(q_array)}')\n",
    "        #Bottom Line\n",
    "        for a in a_array:\n",
    "            if np.bitwise_and(isStable(a,q,kappa,tol),isStable(-0.5*a,-0.5*q,kappa,tol)):\n",
    "                bottom_a.append(a)\n",
    "                bottom_q.append(q)\n",
    "                break\n",
    "        #Top Line\n",
    "        for a in np.flip(a_array):\n",
    "            if np.bitwise_and(isStable(a,q,kappa,tol),isStable(-0.5*a,-0.5*q,kappa,tol)):\n",
    "                top_a.append(a)\n",
    "                top_q.append(q)\n",
    "                break\n",
    "    return [top_a,top_q,bottom_a,bottom_q]\n",
    "#print(detMu(0,0.5,0.002)[0])\n",
    "\n",
    "def makeStabilityDiagramDEVELOP(a_array,q_array,kappa,N = 500,tol = 1e-3):\n",
    "    # \n",
    "    # PARAMETERS\n",
    "    # a - array of a values for which to determine stability over\n",
    "    # q - array of q values over which to determine stability over\n",
    "    # kappa- friction term, see Hasegawa & Uehara for further details\n",
    "    \n",
    "\n",
    "    top_a = []\n",
    "    top_q = []\n",
    "    bottom_a = []\n",
    "    bottom_q = []\n",
    "    for idx,q in enumerate(q_array):\n",
    "        print(rf'At index {idx} out of {len(q_array)}')\n",
    "        #Bottom Line\n",
    "        if idx == 0:\n",
    "            for a in a_array:\n",
    "                if np.bitwise_and(isStable(a,q,kappa,tol),isStable(-0.5*a,-0.5*q,kappa,tol)):\n",
    "                    bottom_a.append(a)\n",
    "                    bottom_q.append(q)\n",
    "                    print(a,q)\n",
    "                    break\n",
    "                #Top Line\n",
    "            for a in np.flip(a_array):\n",
    "                if np.bitwise_and(isStable(a,q,kappa,tol),isStable(-0.5*a,-0.5*q,kappa,tol)):\n",
    "                    top_a.append(a)\n",
    "                    top_q.append(q)\n",
    "                    break   \n",
    "        # else:\n",
    "        #     print(top_a)\n",
    "        #     search_A_down_from = top_a[-1]+0.1\n",
    "        #     search_A_up_from = bottom_a[-1]-0.1\n",
    "        #     for a in np.linspace(search_A_up_from,a_array[-1],N):\n",
    "        #         if np.bitwise_and(isStable(a,q,kappa,tol),isStable(-0.5*a,-0.5*q,kappa,tol)):\n",
    "        #             bottom_a.append(a)\n",
    "        #             bottom_q.append(q)\n",
    "        #             break\n",
    "        #     for a in np.flip(a_array[0],search_A_down_from):\n",
    "        #         if np.bitwise_and(isStable(a,q,kappa,tol),isStable(-0.5*a,-0.5*q,kappa,tol)):\n",
    "        #             top_a.append(a)\n",
    "        #             top_q.append(q)\n",
    "        #             break\n",
    "    return [top_a,top_q,bottom_a,bottom_q]\n"
   ]
  },
  {
   "cell_type": "code",
   "execution_count": 248,
   "metadata": {},
   "outputs": [
    {
     "data": {
      "text/plain": [
       "1"
      ]
     },
     "execution_count": 248,
     "metadata": {},
     "output_type": "execute_result"
    }
   ],
   "source": [
    "check = [1]\n",
    "check[-1]"
   ]
  },
  {
   "cell_type": "code",
   "execution_count": 249,
   "metadata": {},
   "outputs": [
    {
     "name": "stdout",
     "output_type": "stream",
     "text": [
      "85\n",
      "None\n"
     ]
    },
    {
     "data": {
      "text/plain": [
       "(0.0, 0.1)"
      ]
     },
     "execution_count": 249,
     "metadata": {},
     "output_type": "execute_result"
    },
    {
     "data": {
      "image/png": "[encoded data removed]",
      "text/plain": [
       "<Figure size 640x480 with 1 Axes>"
      ]
     },
     "metadata": {},
     "output_type": "display_data"
    }
   ],
   "source": [
    "a_array = np.linspace(-0.1,0.1,1000)\n",
    "q_array= np.linspace(0,0.1,100)\n",
    "\n",
    "[topA,topQ,bottomA,bottomQ] = makeStabilityDiagram(a_array,q_array,0)\n",
    "#[topA2,topQ2,bottomA2,bottomQ2] = makeStabilityDiagram(a_array,q_array,0.1)\n",
    "print(print(len(topA)))\n",
    "\n",
    "plt.scatter(topQ,topA)\n",
    "plt.scatter(bottomQ,bottomA)\n",
    "plt.xlabel(r'$q_z$')\n",
    "plt.ylabel(r'$a_z$')\n",
    "plt.xlim(0,0.1)"
   ]
  }
 ],
 "metadata": {
  "kernelspec": {
   "display_name": "Python 3",
   "language": "python",
   "name": "python3"
  },
  "language_info": {
   "codemirror_mode": {
    "name": "ipython",
    "version": 3
   },
   "file_extension": ".py",
   "mimetype": "text/x-python",
   "name": "python",
   "nbconvert_exporter": "python",
   "pygments_lexer": "ipython3",
   "version": "3.12.3"
  }
 },
 "nbformat": 4,
 "nbformat_minor": 2
}

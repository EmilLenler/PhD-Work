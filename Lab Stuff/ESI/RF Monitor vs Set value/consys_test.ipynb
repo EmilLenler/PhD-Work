{
 "cells": [
  {
   "cell_type": "code",
   "execution_count": 2,
   "metadata": {},
   "outputs": [],
   "source": [
    "import ctypes\n",
    "\n",
    "# Load the DLL\n",
    "dll = ctypes.cdll.LoadLibrary(\"C:\\\\Program Files\\\\ConSys\\\\CSAPI.dll\")\n",
    "\n",
    "dll.RegisterParameterStringEx1.restype = ctypes.c_long\n",
    "dll.RegisterParameterStringEx1.argtypes = [ctypes.c_char_p, ctypes.c_int, ctypes.c_ushort]\n",
    "\n",
    "dll.DeRegister.restype = None\n",
    "dll.DeRegister.argtypes = [ctypes.c_long]\n",
    "\n",
    "dll.SetValue.restype = None\n",
    "dll.SetValue.argtypes = [ctypes.c_long, ctypes.c_long, ctypes.c_double]\n",
    "\n",
    "dll.GetValue.restype = ctypes.c_double\n",
    "dll.GetValue.argtypes = [ctypes.c_long, ctypes.c_long]"
   ]
  },
  {
   "cell_type": "code",
   "execution_count": null,
   "metadata": {},
   "outputs": [],
   "source": [
    "consys_parameters_string = {\"RF\":  \"PAUL2_RFAmp_lun2.cU\",\n",
    "                            \"DC1\": \"PAUL2_CylDClun2.cUHi\",\n",
    "                            \"DC2\": \"PAUL2_CylDClun2.sp9cUHi\"}\n",
    "consys_parameters_id = {\"RF\":  0,\n",
    "                     \"DC1\": 1,\n",
    "                     \"DC2\": 2}"
   ]
  },
  {
   "cell_type": "code",
   "execution_count": null,
   "metadata": {},
   "outputs": [],
   "source": [
    "param_string = consys_parameters_string['RF'] + ' ' + consys_parameters_string['DC1'] + ' ' + consys_parameters_string['DC2']\n",
    "lshandle = dll.RegisterParameterStringEx1(param_string, len(param_string), 0)\n"
   ]
  },
  {
   "cell_type": "code",
   "execution_count": null,
   "metadata": {},
   "outputs": [],
   "source": [
    "dll.SetValue(lshandle, consys_parameters_id['DC1'], 10)"
   ]
  },
  {
   "cell_type": "code",
   "execution_count": null,
   "metadata": {},
   "outputs": [],
   "source": [
    "dll.GetValue(lshandle, consys_parameters_id['RF']), dll.GetValue(lshandle, consys_parameters_id['DC1']), dll.GetValue(lshandle, consys_parameters_id['DC2'])"
   ]
  },
  {
   "cell_type": "code",
   "execution_count": null,
   "metadata": {},
   "outputs": [],
   "source": [
    "dll.DeRegister(lshandle)"
   ]
  },
  {
   "cell_type": "code",
   "execution_count": 1,
   "metadata": {},
   "outputs": [
    {
     "name": "stdout",
     "output_type": "stream",
     "text": [
      "Python interpreter bitness: 64bit\n"
     ]
    }
   ],
   "source": [
    "import platform\n",
    "\n",
    "bitness, _ = platform.architecture()\n",
    "\n",
    "print(\"Python interpreter bitness:\", bitness)\n"
   ]
  }
 ],
 "metadata": {
  "kernelspec": {
   "display_name": "Python 3",
   "language": "python",
   "name": "python3"
  },
  "language_info": {
   "codemirror_mode": {
    "name": "ipython",
    "version": 3
   },
   "file_extension": ".py",
   "mimetype": "text/x-python",
   "name": "python",
   "nbconvert_exporter": "python",
   "pygments_lexer": "ipython3",
   "version": "3.11.3"
  },
  "orig_nbformat": 4
 },
 "nbformat": 4,
 "nbformat_minor": 2
}

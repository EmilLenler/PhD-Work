{
 "cells": [
  {
   "cell_type": "markdown",
   "id": "fd7bc9a3",
   "metadata": {},
   "source": [
    "# TØ 2"
   ]
  },
  {
   "cell_type": "markdown",
   "id": "fb9ff3a5",
   "metadata": {},
   "source": [
    "# Opgave 1\n",
    "\n",
    "a) Løs numerisk fra $t=0$ til $t=4$ differentialligningen\n",
    "\\begin{equation*}\n",
    "\\frac{d^2y}{dt^2}-3\\frac{dy}{dt}+12y=0\n",
    "\\end{equation*}\n",
    "under betingelserne $y(0)=0.0298$ og $\\displaystyle\\left.\\frac{dy}{dt}\\right|_{t=0}=-3$.\n",
    "\n",
    "b) Beregn værdien af $y$ til $t=4$. Du skal nok sætte\n",
    "    `max_step` til $10^{-3}$ for\n",
    "at få et nøjagtigt resultat.\n"
   ]
  },
  {
   "cell_type": "code",
   "execution_count": null,
   "id": "9f05912d",
   "metadata": {},
   "outputs": [],
   "source": [
    "import numpy as np\n",
    "from scipy.integrate import solve_ivp\n",
    "\n",
    "def dpdt(t,p):\n",
    "    y = p[0]\n",
    "    dydt = p[1]\n",
    "    d2ydt2 = 3 * dydt - 12 * y\n",
    "    return [dydt, d2ydt2]\n",
    "\n",
    "mysol = solve_ivp(dpdt, [0, 4], [0.0298, -3], max_step=1e-3)\n",
    "mysol.y[0][-1]"
   ]
  },
  {
   "cell_type": "markdown",
   "id": "68166732",
   "metadata": {},
   "source": [
    "# Opgave 2\n",
    "\n",
    "To forskellige ramper starter begge i $(x,y)=(0,h)$, hvor $h=\\displaystyle\\frac{45}{2}$ og\n",
    "går gennem punktet $(x,y)=(x_1,0)$, hvor $x_1=30$. Den ene rampe er\n",
    "lineært faldende, mens den anden rampe er beskrevet ved en parabel,\n",
    "der endvidere går gennem punktet $(x_0,0)$, $x_0=10$.\n",
    "\n",
    "a) Opskriv funktionsudtryk for højdeprofilen af de to ramper, hhv $y = f_\\mathrm{lin}(x)$\n",
    "for den lineære rampe og $y = f_\\mathrm{par}(x)$ for den parabel-formede\n",
    "rampe. Bestem parametre i udtrykkene med SymPy (med mindre du\n",
    "umiddelbart kan gennemskue hvad parametrene skal være).\n",
    "Plot de to funktioner med python-kommandoer.\n",
    "\n",
    "![Image Title](https://python23.sci2u.dk/media/4/img/lin_par_rampe_01.png)"
   ]
  },
  {
   "cell_type": "code",
   "execution_count": null,
   "id": "60d5cd08",
   "metadata": {},
   "outputs": [],
   "source": [
    "import numpy as np\n",
    "import sympy as sp\n",
    "xsym = sp.symbols('x')\n",
    "asym = sp.symbols('a')\n",
    "\n",
    "x0 = 10\n",
    "x1 = 30\n",
    "\n",
    "hsym = 45/sp.Integer(2)\n",
    "h = hsym.evalf()\n",
    "\n",
    "fparsym = asym * (xsym - x0) * (xsym - x1)\n",
    "fparsym.expand(), h"
   ]
  },
  {
   "cell_type": "code",
   "execution_count": null,
   "id": "4053ec5d",
   "metadata": {},
   "outputs": [],
   "source": [
    "fparsym.subs(xsym,0)"
   ]
  },
  {
   "cell_type": "code",
   "execution_count": null,
   "id": "ff2eef33",
   "metadata": {},
   "outputs": [],
   "source": [
    "a_sol = sp.solve(fparsym.subs(xsym,0) - hsym)[0]\n",
    "fparsym_fixed = fparsym.subs(asym,a_sol)\n",
    "fparsym_fixed"
   ]
  },
  {
   "cell_type": "code",
   "execution_count": null,
   "id": "ab7a1232",
   "metadata": {},
   "outputs": [],
   "source": [
    "fpar = sp.lambdify(xsym, fparsym_fixed, 'numpy')\n",
    "flin = lambda x: h - h/x1*x"
   ]
  },
  {
   "cell_type": "code",
   "execution_count": null,
   "id": "3722306f",
   "metadata": {},
   "outputs": [],
   "source": [
    "import matplotlib.pyplot as plt\n",
    "plt.rc('font',size=16)\n",
    "\n",
    "fig, ax = plt.subplots()\n",
    "xs1 = np.linspace(0, 30, 100)\n",
    "xs2 = np.linspace(30, 40, 30)\n",
    "ax.plot(xs1, flin(xs1), label='$f_{lin}(x)$')\n",
    "ax.plot(xs1, fpar(xs1), label='$f_{par}(x)$')\n",
    "ax.plot(xs2, flin(xs2), linestyle='--', color='C0')\n",
    "ax.plot(xs2, fpar(xs2), linestyle='--', color='C1')\n",
    "ax.set_xlabel('$x$')\n",
    "ax.set_ylabel('$y$')\n",
    "ax.grid()\n",
    "ax.legend()\n",
    "ax.set_aspect('equal')\n",
    "\n",
    "fig.tight_layout()\n",
    "fig.savefig('lin_par_rampe_01.png')"
   ]
  },
  {
   "cell_type": "markdown",
   "id": "cb541a2d",
   "metadata": {},
   "source": [
    "Bevægelsen for et legeme på ramperne under indvirkning af\n",
    "tyngdekraften er beskrevet ved følgende differentialligning:\n",
    "\\begin{equation*}\n",
    "\\frac{d^2x}{dt^2}=\\frac{\\displaystyle -\\frac{dy}{dx}}{1+\\left(\\displaystyle\\frac{dy}{dx}\\right)^2}\\Bigl(g+\\frac{d^2y}{dx^2}\\left(\\frac{dx}{dt}\\right)^2\\Bigr),\n",
    "\\end{equation*}\n",
    "hvor $g=9.8$ er tyngdeaccelerationen og hvor $y(x)$ er rampens højdeprofil som funktion af $x$. For den lineære\n",
    "rampe er hældningen, $\\displaystyle\\frac{dy}{dx}$, en konstant for alle\n",
    "værdier af $x$ mens den anden afledede, $\\displaystyle\\frac{d^2y}{dx^2}$, er\n",
    "nul. For den parabel-formede rampe er hældningen en funktion af $x$ og\n",
    "den anden afledede en\n",
    "konstant. \n",
    "Differentialligningen\n",
    "kan synes stor og kompliceret, men læg mærke til at når $y$ er en\n",
    "kendt funktion af $x$, så er det eneste\n",
    "ubekendte, der er tilbage i ligningen, de to hhv 1.- og\n",
    "2.-ordens tidsafledede af $x$-positionen, her markeret med rødt:\n",
    "\\begin{equation*}\n",
    "\\color{red}{\\frac{d^2x}{dt^2}}=\\frac{\\displaystyle -\\frac{dy}{dx}}{1+\\left(\\displaystyle\\frac{dy}{dx}\\right)^2}\\Bigl(g+\\frac{d^2y}{dx^2}\\left(\n",
    "\\color{red}{\\frac{dx}{dt}}\\right)^2\\Bigr).\n",
    "\\end{equation*}\n",
    "Differentialligningen har altså samme form som dem, der blev løst\n",
    "til forelæsningen\n",
    "og kan dermed løses på\n",
    "samme måde.\n",
    "\n"
   ]
  },
  {
   "cell_type": "markdown",
   "id": "d469ee78",
   "metadata": {},
   "source": [
    "b) Udled med SymPy (eller pen og papir, hvis det er meget nemt)\n",
    "de omtalte udtryk for hældning og den anden afledede. Løs nu\n",
    "differentialligningen med\n",
    "`solve_ivp` for tider i intervallet $0\\le t\\le\n",
    "4$ og plot $x(t)$ for hver af de to ramper så du kan afgøre for hvilken\n",
    "rampe, et legeme startet stilleliggende ud i $\\bigl(0,f(0)\\bigr)$\n",
    "hurtigst muligt vil passere $x=x_1$.\n",
    "![Image Title](https://python23.sci2u.dk/media/4/img/lin_par_rampe_02.png)\n",
    "Når $x$ først er fundet som funktion af $t$ kan man\n",
    "efterfølgende bestemme $y(t)$ ud fra den geometriske betingelse at\n",
    "legemet befinder sig på rampen, dvs.\n",
    "\\begin{equation*}\n",
    "y(t) = f\\big(x(t)\\big),\n",
    "\\end{equation*}\n",
    "hvor $f(x)$ er $f_\\mathrm{lin}(x)$ eller $f_\\mathrm{par}(x)$ alt efter hvilken rampe, der er tale om.\n"
   ]
  },
  {
   "cell_type": "code",
   "execution_count": null,
   "id": "f0909a4f",
   "metadata": {},
   "outputs": [],
   "source": [
    "flin_prime = - h/x1\n",
    "\n",
    "fpar_prime_sym = sp.diff(fparsym_fixed,xsym)\n",
    "fpar_prime = sp.lambdify(xsym, fpar_prime_sym, 'numpy')\n",
    "fpar_pp_sym = sp.diff(fpar_prime_sym,xsym)\n",
    "fpar_pp = sp.lambdify(xsym, fpar_pp_sym, 'numpy')"
   ]
  },
  {
   "cell_type": "code",
   "execution_count": null,
   "id": "d83c742a",
   "metadata": {},
   "outputs": [],
   "source": [
    "from scipy.integrate import solve_ivp\n",
    "g = 9.8\n",
    "trange = [0, 4]\n",
    "x0 = 0\n",
    "v0 = 0\n",
    "q0 = [x0, v0]\n",
    "def dqlindt(t, q):\n",
    "    x = q[0]\n",
    "    v = q[1]\n",
    "    dxdt = v\n",
    "    dvdt = -flin_prime/(1+flin_prime**2)*g\n",
    "    return [dxdt, dvdt]\n",
    "\n",
    "def dqpardt(t, q):\n",
    "    x = q[0]\n",
    "    v = q[1]\n",
    "    dxdt = v\n",
    "    dvdt = -fpar_prime(x)/(1+fpar_prime(x)**2)* \\\n",
    "                        (g + fpar_pp(x)*v**2)\n",
    "    return [dxdt, dvdt]\n",
    "\n",
    "solve_lin = solve_ivp(dqlindt, trange, q0, max_step=1e-3)\n",
    "ts_lin = solve_lin.t\n",
    "xs_lin = solve_lin.y[0]\n",
    "\n",
    "solve_par = solve_ivp(dqpardt, trange, q0, max_step=1e-3)\n",
    "ts_par = solve_par.t\n",
    "xs_par = solve_par.y[0]\n",
    "\n",
    "fig, ax = plt.subplots()\n",
    "ax.plot(ts_lin, xs_lin, label='via $y=f_{lin}(x)$')\n",
    "ax.plot(ts_par, xs_par, label='via $y=f_{par}(x)$')\n",
    "ax.plot([0, 4], [x1, x1], linestyle='dashed')\n",
    "ax.legend()\n",
    "ax.grid()\n",
    "ax.set_xlabel('$t$')\n",
    "ax.set_ylabel('$x$')\n",
    "\n",
    "fig.tight_layout()\n",
    "fig.savefig('lin_par_rampe_02.png')"
   ]
  },
  {
   "cell_type": "markdown",
   "id": "9c0854a8",
   "metadata": {},
   "source": [
    "c) Løs nu differentialligningen igen for hver af de to ramper. Sørg\n",
    "for at få de to løsninger til de samme ækvidistante tider.\n",
    "Udarbejd derefter en update-funktion og test den:\n",
    "\n",
    "\n",
    "![Image Title](https://python23.sci2u.dk/media/4/img/lin_par_rampe_03.png)\n",
    "![Image Title](https://python23.sci2u.dk/media/4/img/lin_par_rampe_04.png)\n",
    "![Image Title](https://python23.sci2u.dk/media/4/img/lin_par_rampe_05.png)\n",
    "\n",
    "\n",
    "Foretag en\n",
    "animation af den samtidige bevægelse af to legemer,\n",
    "der startes på hver deres rampe.\n",
    "\n",
    "![Image Title](https://python23.sci2u.dk/media/4/img/lin_par_rampe_06.gif)\n",
    "\n"
   ]
  },
  {
   "cell_type": "code",
   "execution_count": null,
   "id": "f38c4c69",
   "metadata": {},
   "outputs": [],
   "source": [
    "fig, ax = plt.subplots()\n",
    "xs1 = np.linspace(0, x1, 100)\n",
    "xs2 = np.linspace(x1, 40, 30)\n",
    "ax.plot(xs1, flin(xs1), label='$f_{lin}(x)$')\n",
    "ax.plot(xs1, fpar(xs1), label='$f_{par}(x)$')\n",
    "ax.plot(xs2, flin(xs2), linestyle='--', color='C0')\n",
    "ax.plot(xs2, fpar(xs2), linestyle='--', color='C1')\n",
    "ax.set_xlabel('$x$')\n",
    "ax.set_ylabel('$y$')\n",
    "ax.grid()\n",
    "ax.legend()\n",
    "ax.set_aspect('equal')"
   ]
  },
  {
   "cell_type": "code",
   "execution_count": null,
   "id": "55a5d07a",
   "metadata": {},
   "outputs": [],
   "source": [
    "t_eval = np.linspace(0, trange[1], 100)\n",
    "\n",
    "solve_lin = solve_ivp(dqlindt, trange, q0, max_step=1e-3, t_eval=t_eval)\n",
    "xs_lin = solve_lin.y[0]\n",
    "\n",
    "solve_par = solve_ivp(dqpardt, trange, q0, max_step=1e-3, t_eval=t_eval)\n",
    "xs_par = solve_par.y[0]\n",
    "\n",
    "ball_lin = ax.plot([],[],'o', color='k')[0]\n",
    "ball_par = ax.plot([],[],'o', color='C3')[0]\n",
    "\n",
    "fig"
   ]
  },
  {
   "cell_type": "code",
   "execution_count": null,
   "id": "a81199e7",
   "metadata": {},
   "outputs": [],
   "source": [
    "def update(i):\n",
    "    ball_lin.set_data(xs_lin[i],flin(xs_lin[i]))\n",
    "    ball_par.set_data(xs_par[i],fpar(xs_par[i]))\n",
    "    return [ball_lin, ball_par]"
   ]
  },
  {
   "cell_type": "code",
   "execution_count": null,
   "id": "d2f236cb",
   "metadata": {},
   "outputs": [],
   "source": [
    "update(30)\n",
    "fig.tight_layout()\n",
    "fig.savefig('lin_par_rampe_03.png')\n",
    "fig"
   ]
  },
  {
   "cell_type": "code",
   "execution_count": null,
   "id": "0c8b2dfe",
   "metadata": {},
   "outputs": [],
   "source": [
    "update(60)\n",
    "fig.tight_layout()\n",
    "fig.savefig('lin_par_rampe_04.png')\n",
    "fig"
   ]
  },
  {
   "cell_type": "code",
   "execution_count": null,
   "id": "4bea9dec",
   "metadata": {},
   "outputs": [],
   "source": [
    "update(83)\n",
    "fig.tight_layout()\n",
    "fig.savefig('lin_par_rampe_05.png')\n",
    "fig"
   ]
  },
  {
   "cell_type": "code",
   "execution_count": null,
   "id": "7de65f1e",
   "metadata": {},
   "outputs": [],
   "source": [
    "from matplotlib import animation\n",
    "plt.rc('animation', html='jshtml')\n",
    "\n",
    "\n",
    "Nframes = len(t_eval)\n",
    "anim = animation.FuncAnimation(fig,\n",
    "                               update,\n",
    "                               frames=Nframes,\n",
    "                               interval=10,\n",
    "                               blit=True)\n",
    "anim"
   ]
  },
  {
   "cell_type": "code",
   "execution_count": null,
   "id": "5e3eb701",
   "metadata": {},
   "outputs": [],
   "source": [
    "writer = animation.writers['pillow'](fps=25) # frames per second\n",
    "anim.save('lin_par_rampe_06.gif', writer=writer)"
   ]
  },
  {
   "cell_type": "markdown",
   "id": "063cc21f",
   "metadata": {},
   "source": [
    "d) Fokusér nu på den parabel-formede rampe og lad den være defineret\n",
    "for $0\\le x\\le b$, hvor $b=40$. Bestem et legemes bevægelse på rampen\n",
    "i tiden $0\\le t\\le 23$ og notér dig at den bliver oscillatorisk. Idet\n",
    "legemes masse sættes til $m=1/7$ skal du ud fra outputtet fra\n",
    "`solve_ivp` beregne og plotte den kinetiske og den\n",
    "potentielle energi af legemet som funktion af tiden.\n",
    "Læg mærke til at $\\displaystyle\\frac{dx}{dt}$ *ikke* er hastigheden $v$ af\n",
    "legemet. Det er kun $x$-komposanten af legemets hastighed. Da legemet er\n",
    "tvunget til at bevæge sig ad rampen vil dets hastighedsvektor\n",
    "imidlertid altid pege langs med rampen, der har retningsvektoren:\n",
    "\\begin{equation*}\n",
    "\\hat{\\mathbf{s}} = \\frac{1}{\\sqrt{1+\\left(\\displaystyle\\frac{dy}{dx}\\right)^2}}\\left[\\begin{array}{c}1\\\\ \\displaystyle\\frac{dy}{dx}\\end{array}\\right],\n",
    "\\end{equation*}\n",
    "hvorfor legemets hastighedsvektor kan skrives:\n",
    "\\begin{equation*}\n",
    "\\mathbf{v} = v\\hat{\\mathbf{s}}.\n",
    "\\end{equation*}\n",
    "Med den sædvanlige måde at skrive hastighedsvektoren på:\n",
    "\\begin{equation*}\n",
    "\\mathbf{v} = \n",
    "  \\left[\\begin{array}{c}\\displaystyle\\frac{dx}{dt}\\\\ \\\\\n",
    "        \\displaystyle\\frac{dy}{dt}\\end{array}\\right]\n",
    "\\end{equation*}\n",
    "kan man ud fra $x$-komposanterne udlede dette udtryk:\n",
    "\\begin{equation*}\n",
    "v = \\displaystyle\\frac{dx}{dt}\\sqrt{1+\\left(\\displaystyle\\frac{dy}{dx}\\right)^2}.\n",
    "\\end{equation*}\n",
    "Verificér at den mekaniske energi er bevaret ved at lave dette plot af\n",
    "potentiel, kinetisk og mekanisk energi:\n",
    "\n",
    "![Image Title](https://python23.sci2u.dk/media/4/img/lin_par_rampe_07.png)\n",
    "\n",
    "Bestem endvidere den maksimale kinetiske energi\n",
    "med `np.max`-kommandoen på listen af beregnede\n",
    "kinetiske energier. Udskriv værdien.\n"
   ]
  },
  {
   "cell_type": "code",
   "execution_count": null,
   "id": "2c505d6a",
   "metadata": {},
   "outputs": [],
   "source": [
    "b = 40\n",
    "tmax = 23\n",
    "trange = [0, tmax]\n",
    "t_eval = np.linspace(0,tmax,1000)\n",
    "m = 1/7\n",
    "\n",
    "solve_par = solve_ivp(dqpardt, trange, q0, max_step=1e-3, t_eval=t_eval)\n",
    "ts = solve_par.t\n",
    "xs = solve_par.y[0]\n",
    "vxs = solve_par.y[1]\n",
    "\n",
    "vs = vxs * np.sqrt(1 + fpar_prime(xs)**2)\n",
    "pots = m * g * fpar(xs)\n",
    "kins = 1/2 * m * vs**2\n",
    "fig, ax = plt.subplots()\n",
    "ax.plot(ts, pots, label='P')\n",
    "ax.plot(ts, kins, label='K')\n",
    "ax.plot(ts, pots + kins, label='P+K')\n",
    "ax.set_xlabel('$t$')\n",
    "ax.set_ylabel('Energy')\n",
    "ax.legend()\n",
    "fig.tight_layout()\n",
    "fig.savefig('lin_par_rampe_07.png')\n",
    "max(kins)"
   ]
  },
  {
   "cell_type": "markdown",
   "id": "896c4e25",
   "metadata": {},
   "source": [
    "e) Lav evt en animation af den oscillatoriske bevægelse. \n",
    "\n",
    "![Image Title](https://python23.sci2u.dk/media/4/img/lin_par_rampe_08.gif)"
   ]
  },
  {
   "cell_type": "code",
   "execution_count": null,
   "id": "5e9cd37e",
   "metadata": {},
   "outputs": [],
   "source": [
    "fig, ax = plt.subplots()\n",
    "xs = np.linspace(0, b, 100)\n",
    "ax.plot(xs, fpar(xs), color='C1')\n",
    "ax.set_xlabel('$x$')\n",
    "ax.set_ylabel('$y$')\n",
    "ax.grid()\n",
    "ax.set_aspect('equal')\n",
    "ball_par = ax.plot([],[],'o', color='C3')[0]\n",
    "\n",
    "t_eval = np.linspace(0,tmax,200)\n",
    "solve_par = solve_ivp(dqpardt, trange, q0, max_step=1e-3, t_eval=t_eval)\n",
    "xs = solve_par.y[0]\n",
    "\n",
    "def update(i):\n",
    "    ball_par.set_data(xs[i],fpar(xs[i]))\n",
    "    return [ball_par]"
   ]
  },
  {
   "cell_type": "code",
   "execution_count": null,
   "id": "514618af",
   "metadata": {},
   "outputs": [],
   "source": [
    "update(0)\n",
    "fig"
   ]
  },
  {
   "cell_type": "code",
   "execution_count": null,
   "id": "10725dbb",
   "metadata": {},
   "outputs": [],
   "source": [
    "from matplotlib import animation\n",
    "plt.rc('animation', html='jshtml')\n",
    "\n",
    "\n",
    "Nframes = len(xs)\n",
    "anim = animation.FuncAnimation(fig,\n",
    "                               update,\n",
    "                               frames=Nframes,\n",
    "                               interval=20,\n",
    "                               blit=True)\n",
    "anim"
   ]
  },
  {
   "cell_type": "code",
   "execution_count": null,
   "id": "8aea7750",
   "metadata": {},
   "outputs": [],
   "source": [
    "writer = animation.writers['pillow'](fps=25) # frames per second\n",
    "anim.save('lin_par_rampe_08.gif', writer=writer)"
   ]
  },
  {
   "cell_type": "markdown",
   "id": "df10cd06",
   "metadata": {},
   "source": [
    "f) Vi vender nu tilbage til spørgsmålet om hvornår legemerne passerer\n",
    "$x_1$ når de startes ud i $(0,h)$. Man kan lave en hel serie af\n",
    "forskellige parabel-formede ramper, hvis $x_0$ betragtes som en parameter.\n",
    "Her er fire ramper, der alle starter i $(0,h)$ og går gennem $(x_0,\n",
    "0)$ og $(x_1,0)$:\n",
    "\n",
    "![Image Title](https://python23.sci2u.dk/media/4/img/lin_par_rampe_09.png)\n",
    "\n",
    "Bemærk hvordan $x_0=1000$ næsten bliver til en ret linie. Lav et\n",
    "tilsvarende plot af nogle parabler for forskellige $x_0$-værdier.\n",
    "\n"
   ]
  },
  {
   "cell_type": "code",
   "execution_count": null,
   "id": "b1076f8b",
   "metadata": {},
   "outputs": [],
   "source": [
    "fig, ax = plt.subplots()\n",
    "xs = np.linspace(0, b, 100)\n",
    "for x0 in [10, 20, 30, 1000]:\n",
    "    foptsym = hsym/x0/x1 * (xsym - x0) * (xsym - x1)\n",
    "    fopt = sp.lambdify(xsym,foptsym,'numpy')\n",
    "    ax.plot(xs, fopt(xs), label='$x_0=' + str(x0) + '$')\n",
    "ax.set_xlabel('$x$')\n",
    "ax.set_ylabel('$y$')\n",
    "ax.set_aspect('equal')\n",
    "ax.legend()\n",
    "ax.grid()\n",
    "fig.tight_layout()\n",
    "fig.savefig('lin_par_rampe_09.png')"
   ]
  },
  {
   "cell_type": "markdown",
   "id": "61ac2941",
   "metadata": {},
   "source": [
    "g) Skriv nu en funktion, der givet $x_0$:\n",
    "- med SymPy bestemmer funktionsforskriften for parablen, samt dennes\n",
    "  1. og 2. afledede.\n",
    "- konverterer SymPy-funktionerne til NumPy-funktioner.\n",
    "- løser differentialligningen\n",
    "  frem til legemet passerer $x_1$. Dette håndteres som en hændelse,\n",
    "  der stopper\n",
    "  løsningen af differentialligningen.\n",
    "- returnerer tidspunktet for ankomsten til $x_1$.\n",
    "\n",
    "\n",
    "Testkør funktionen med $x_0=10$ og $x_0=1000$, der svarer til den oprindelige\n",
    "parabelformede rampe samt approximerer den lineære rampe. Fra figuren i\n",
    "spørgsmål b) kan du aflæse at du skal få ca. $3.45$ og $3.55$. Hvad får du?\n"
   ]
  },
  {
   "cell_type": "code",
   "execution_count": null,
   "id": "41f790e5",
   "metadata": {},
   "outputs": [],
   "source": [
    "N = 12\n",
    "x0vals = np.logspace(1,3,N)\n",
    "\n",
    "at_x1 = lambda t, q: q[0] - x1\n",
    "at_x1.terminal = True\n",
    "\n",
    "def time_to_x1(x0):\n",
    "    foptsym = hsym/x0/x1 * (xsym - x0) * (xsym - x1)\n",
    "\n",
    "    fopt_prime_sym = sp.diff(foptsym,xsym)\n",
    "    fopt_prime = sp.lambdify(xsym, fopt_prime_sym, 'numpy')\n",
    "    fopt_pp_sym = sp.diff(fopt_prime_sym,xsym)\n",
    "    fopt_pp = sp.lambdify(xsym, fopt_pp_sym, 'numpy')\n",
    "    \n",
    "    def dqoptdt(t, q):\n",
    "        x = q[0]\n",
    "        v = q[1]\n",
    "        dxdt = v\n",
    "        dvdt = -fopt_prime(x)/(1+fopt_prime(x)**2)* \\\n",
    "                            (g + fopt_pp(x)*v**2)\n",
    "        return [dxdt, dvdt]\n",
    "\n",
    "    solve_opt = solve_ivp(dqoptdt, trange, q0, max_step=1e-2, events=[at_x1])\n",
    "    ts_opt = solve_opt.t\n",
    "    return ts_opt[-1]\n",
    "\n",
    "time_to_x1(10),time_to_x1(1000)"
   ]
  },
  {
   "cell_type": "markdown",
   "id": "8c7b0907",
   "metadata": {},
   "source": [
    "h) Scan nogle værdier af $x_0$ og plot en kurve over den tid det tager\n",
    "at nå frem til $x_1$ som funktion af $x_0$.\n",
    "\n",
    "![Image Title](https://python23.sci2u.dk/media/4/img/lin_par_rampe_10.png)\n"
   ]
  },
  {
   "cell_type": "code",
   "execution_count": null,
   "id": "c0282706",
   "metadata": {},
   "outputs": [],
   "source": [
    "\n",
    "\n",
    "tvals = []\n",
    "for x0 in x0vals:\n",
    "    tvals.append(time_to_x1(x0))\n",
    "\n",
    "fig, ax = plt.subplots()\n",
    "ax.plot(np.abs(x0vals), tvals)\n",
    "ax.set_xlabel('$x_0$')\n",
    "ax.set_ylabel('$t(x=x_1)$')\n",
    "ax.grid()\n",
    "fig.tight_layout()\n",
    "fig.savefig('lin_par_rampe_10.png')"
   ]
  },
  {
   "cell_type": "markdown",
   "id": "f6ba030d",
   "metadata": {},
   "source": [
    "i) Benyt `fmin` til at bestemme\n",
    "den optimale værdi af $x_0$, der bringer legemet hurtigst muligt frem\n",
    "til $x_1$. Afsæt det fundne punkt i plottet:\n",
    "\n",
    "![Image Title](https://python23.sci2u.dk/media/4/img/lin_par_rampe_11.png)\n",
    "\n",
    "Forhold dig til at det ikke er den lineære rampe, der den\n",
    "optimale. Kan du forklare hvorfor?\n",
    "\n",
    "Hint, hvis du får en fejl med `fmin`: Når `fmin` søger kalder den funktionen med et\n",
    "1-dimensionelt NumPy array med ét tal. Alt efter hvordan du bruger\n",
    "dette tal i funktionen kan det gå galt. SymPy bryder sig ikke om et\n",
    "sådant NumPy-array. Det kan derfor være en god idé at gøre således:\n",
    "```\n",
    "x0opt = fmin(lambda x0: time_to_x1(float(x0)), 10)[0]\n",
    "```\n",
    "hvor `time_to_x1` er din funktion fra spørgsmål g\n",
    "og hvor `lambda`-funktionen bruges til at wrappe\n",
    "den så `fmin`'s NumPy-array bliver konverteret til\n",
    "en float.\n",
    "\n"
   ]
  },
  {
   "cell_type": "code",
   "execution_count": null,
   "id": "4e02ca4b",
   "metadata": {},
   "outputs": [],
   "source": [
    "from scipy.optimize import fmin\n",
    "x0opt = fmin(lambda x0: time_to_x1(float(x0)), 10)[0]\n",
    "ax.scatter(x0opt,time_to_x1(x0opt))\n",
    "fig.tight_layout()\n",
    "fig.savefig('lin_par_rampe_11.png')\n",
    "fig"
   ]
  },
  {
   "cell_type": "markdown",
   "id": "aaae391d",
   "metadata": {},
   "source": [
    "# Opgave 3 (hvis du synes den lyder sjov)\n",
    "\n",
    "Denne opgave knytter sig til\n",
    "  rampe-opgaven ovenfor og handler om at \n",
    "udlede udtrykket for\n",
    "  differentialligningen.\n",
    "\n",
    "a) Start med at argumentere for at forholdet mellem den differentielle\n",
    "tilvækst i vejlængden langs rampen og den differentielle tilvækst i\n",
    "$x$-koordinaten på rampen er:\n",
    "\\begin{equation*}\n",
    "\\displaystyle\\frac{ds}{dx}=\n",
    "\\sqrt{1+\\left(\\frac{dy}{dx}\\right)^2}\n",
    "\\end{equation*}\n",
    "b) Opskriv dernæst Newton II for et legeme på rampen:\n",
    "\\begin{equation*}\n",
    "\\begin{array}{rcl}\n",
    "  m\\color{blue}{\\displaystyle\\frac{d^2s}{dt^2}}&=&(0,-mg)\\cdot \\hat{\\mathbf{s}}\\\\ \\\\\n",
    "  &=& -mg\\frac{\\displaystyle\\frac{dy}{dx}}{\\sqrt{\\displaystyle 1+\\left(\\displaystyle\\frac{dy}{dx}\\right)^2}}.\n",
    "\\end{array}\n",
    "  \\end{equation*}\n",
    "du kan få mening i det ud fra denne figur:\n",
    "\n",
    "\n",
    "![Image Title](https://python23.sci2u.dk/media/4/img/rampe_parabel_II_zoom.png)\n",
    "\n",
    "\n",
    "c) Benyt denne kombination af kædereglen og produktreglen:\n",
    "\\begin{equation*}\n",
    "\\begin{array}{rcl}\n",
    "\\color{blue}{\\displaystyle\\frac{d^2s}{dt^2}}&=&\\displaystyle\\frac{d}{dt}\\Bigl\\{\\displaystyle\\frac{ds}{dx}\\displaystyle\\frac{dx}{dt}\\Bigr\\}\\\\\n",
    "  \\\\\n",
    "  &=&\n",
    "\\color{green}{\\displaystyle\\frac{d}{dt}\\Bigl\\{\\displaystyle\\frac{ds}{dx}\\Bigr\\}}\\displaystyle\\frac{dx}{dt}\n",
    "      +\\displaystyle\\frac{ds}{dx}\\displaystyle\\frac{d}{dt}\\Bigl\\{\\displaystyle\\frac{dx}{dt}\\Bigr\\}\\\\ \\\\\n",
    "                               &=&\n",
    "                                   \\big(\\displaystyle\\frac{dx}{dt}\\big)^2\n",
    "                                   \\frac{\\displaystyle\\frac{dy}{dx}}{\\sqrt{\\displaystyle\n",
    "                                   1+\\left(\\displaystyle\\frac{dy}{dx}\\right)^2}}\n",
    "                                   \\displaystyle\\frac{d^2y}{dx^2}\n",
    "                                   + \\sqrt{\\displaystyle                                                         \n",
    "                                   1+\\left(\\displaystyle\\frac{dy}{dx}\\right)^2}\\displaystyle\\frac{d^2x}{dt^2}\n",
    "                                   \\end{array}\n",
    "\\end{equation*}\n",
    "\n",
    "hvor den grønne del er blevet omskrivet på følgende vis:\n",
    "\\begin{equation*}\n",
    "\\begin{array}{rcl}\n",
    "\\color{green}{\\displaystyle\\frac{d}{dt}\\Bigl\\{\\displaystyle\\frac{ds}{dx}\\Bigr\\}}\n",
    "  &=&\\displaystyle\\frac{dx}{dt}\\displaystyle\\frac{d}{dx}\\Bigl\\{\\displaystyle\\frac{ds}{dx}\\Bigr\\}\\\\ \\\\\n",
    "  &=&\\displaystyle\\frac{dx}{dt}\\displaystyle\\frac{d}{dx}\\sqrt{1+\\bigl(\\displaystyle\\frac{dy}{dx}\\bigr)^2}\\\\ \\\\\n",
    "  &=&\\displaystyle\\frac{dx}{dt}\\frac{1}{2\\sqrt{1+\\bigl(\\displaystyle\\frac{dy}{dx}\\bigr)^2}}\\cdot\n",
    "      2\\displaystyle\\frac{dy}{dx}\\displaystyle\\frac{d^2y}{dx^2}\n",
    "\\end{array}\n",
    "\\end{equation*}\n",
    "d) De to udtryk skrevet med blå kan nu sættes lig hinanden og du kan\n",
    "udlede \n",
    "  differentialligningen."
   ]
  },
  {
   "cell_type": "markdown",
   "id": "13600e57",
   "metadata": {},
   "source": [
    "# Opgave 4\n",
    "\n",
    "Det oplyses om en funktion $y(x)$ at den minimerer dette funktional:\n",
    "$$\n",
    "I(y)=\\displaystyle\\int_0^1\\left(\\frac{dy}{dx} - y(x)\\right)^2 dx,\\quad y(0)=0,\\quad y(1)=2,\n",
    "$$\n",
    "når $y(x)=y_0(x)$, hvor:\n",
    "$$\n",
    "y_0(x)=2\\frac{\\sinh(x)}{\\sinh(1)}\n",
    "$$\n",
    "\n",
    "a) Beregn værdien $I(y_0)$"
   ]
  },
  {
   "cell_type": "code",
   "execution_count": null,
   "id": "a0f946da",
   "metadata": {},
   "outputs": [],
   "source": [
    "import numpy as np\n",
    "import sympy as sp\n",
    "import matplotlib.pyplot as plt\n",
    "plt.rc('font',size=20)\n",
    "symx = sp.symbols('x')"
   ]
  },
  {
   "cell_type": "code",
   "execution_count": null,
   "id": "331b42da",
   "metadata": {},
   "outputs": [],
   "source": [
    "symy0 = 2 * sp.sinh(symx) / sp.sinh(1)\n",
    "symdy0dx = sp.diff(symy0,symx)\n",
    "symdy0dx"
   ]
  },
  {
   "cell_type": "code",
   "execution_count": null,
   "id": "bf3c19e3",
   "metadata": {},
   "outputs": [],
   "source": [
    "a = sp.integrate((symdy0dx - symy0)**2,(symx,0,1))\n",
    "float(a)"
   ]
  },
  {
   "cell_type": "markdown",
   "id": "62c68b28",
   "metadata": {},
   "source": [
    "For at beregne $I(y)$ for andre funktioner, der opfylder grænsebetingelserne indføres:\n",
    "\n",
    "$$\n",
    "\\Delta (x) = \\sin(\\pi x)\n",
    "$$\n",
    "\n",
    "b) Beregn $I(y_a)$, hvor:\n",
    "\n",
    "$$\n",
    "y_a(x) = y_0(x) + a \\Delta (x)\n",
    "$$\n",
    "\n",
    "for værdier af $a$ mellem $-1.2$ og $1.2$. Plot $y_a(x)$ for de forskellige værdier af $a$ og benyt en farve, der afspejler værdien af $I(y_a)$.\n",
    "\n",
    "![Image Title](https://python23.sci2u.dk/media/4/img/functional_analysis_101.png)"
   ]
  },
  {
   "cell_type": "code",
   "execution_count": null,
   "id": "c1f3085c",
   "metadata": {},
   "outputs": [],
   "source": [
    "deltay = sp.sin(symx*sp.pi)\n",
    "deltay.subs(symx,0),deltay.subs(symx,0.5),deltay.subs(symx,1)"
   ]
  },
  {
   "cell_type": "code",
   "execution_count": null,
   "id": "14cd23a7",
   "metadata": {},
   "outputs": [],
   "source": [
    "fig, ax = plt.subplots()\n",
    "\n",
    "numx = np.linspace(0,1,30)\n",
    "\n",
    "norm = plt.Normalize(vmin=1.25, vmax=9)\n",
    "cmap = plt.cm.coolwarm\n",
    "\n",
    "for a in np.linspace(-1.2,1.2,11):\n",
    "    symy = symy0 + a * deltay\n",
    "    symdydx = sp.diff(symy,symx)\n",
    "    vali = float(sp.integrate((symdydx - symy)**2,(symx,0,1)))\n",
    "    print(a,vali)\n",
    "    numy = sp.lambdify(symx,symy,'numpy')\n",
    "    ax.plot(numx,numy(numx),color=cmap(norm(vali))) #f'C{int(vali)}')\n",
    "    \n",
    "sm = plt.cm.ScalarMappable(cmap=cmap, norm=norm)\n",
    "cbar = plt.colorbar(sm, ax=ax, orientation='vertical', pad=0.2)\n",
    "cbar.set_label('$I(y_a)$', fontsize=20)\n",
    "ax.set_xlabel('$x$')\n",
    "ax.set_ylabel('$y$')\n",
    "ax.grid('on')"
   ]
  },
  {
   "cell_type": "code",
   "execution_count": null,
   "id": "b79e1dd2",
   "metadata": {},
   "outputs": [],
   "source": [
    "fig.tight_layout()\n",
    "fig.savefig('functional_analysis_101.png')"
   ]
  },
  {
   "cell_type": "code",
   "execution_count": null,
   "id": "8568ff72",
   "metadata": {},
   "outputs": [],
   "source": []
  }
 ],
 "metadata": {
  "kernelspec": {
   "display_name": "Python 3 (ipykernel)",
   "language": "python",
   "name": "python3"
  },
  "language_info": {
   "codemirror_mode": {
    "name": "ipython",
    "version": 3
   },
   "file_extension": ".py",
   "mimetype": "text/x-python",
   "name": "python",
   "nbconvert_exporter": "python",
   "pygments_lexer": "ipython3",
   "version": "3.9.7"
  }
 },
 "nbformat": 4,
 "nbformat_minor": 5
}

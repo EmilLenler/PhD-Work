{
 "cells": [
  {
   "cell_type": "code",
   "execution_count": 1,
   "metadata": {},
   "outputs": [],
   "source": [
    "# Path to store stellar and instrument data.\n",
    "ld_data_path = 'exotic_ld_data'\n",
    "\n",
    "# Stellar models grid.\n",
    "ld_model = 'mps1'\n",
    "\n",
    "# Metallicty [dex].\n",
    "M_H = 0.01\n",
    "\n",
    "# Effective temperature [K].\n",
    "Teff = 5512\n",
    "\n",
    "# Surface gravity [dex].\n",
    "logg = 4.47"
   ]
  },
  {
   "cell_type": "code",
   "execution_count": 2,
   "metadata": {},
   "outputs": [
    {
     "ename": "HTTPError",
     "evalue": "HTTP error occurred: url=https://www.star.bris.ac.uk/exotic-ld-data%5Cmps1%5CMH0.0%5Cteff5500%5Clogg4.5%5Cmps1_spectra.dat, msg=404 Client Error: Not Found for url: https://www.star.bris.ac.uk/exotic-ld-data%5Cmps1%5CMH0.0%5Cteff5500%5Clogg4.5%5Cmps1_spectra.dat",
     "output_type": "error",
     "traceback": [
      "\u001b[1;31m---------------------------------------------------------------------------\u001b[0m",
      "\u001b[1;31mHTTPError\u001b[0m                                 Traceback (most recent call last)",
      "File \u001b[1;32mc:\\Users\\lenle\\anaconda3\\Lib\\site-packages\\exotic_ld\\ld_requests.py:13\u001b[0m, in \u001b[0;36mdownload\u001b[1;34m(url, local_file_name, verbose, chunk_size)\u001b[0m\n\u001b[0;32m     12\u001b[0m response \u001b[38;5;241m=\u001b[39m requests\u001b[38;5;241m.\u001b[39mget(url, stream\u001b[38;5;241m=\u001b[39m\u001b[38;5;28;01mTrue\u001b[39;00m)\n\u001b[1;32m---> 13\u001b[0m response\u001b[38;5;241m.\u001b[39mraise_for_status()\n\u001b[0;32m     14\u001b[0m total \u001b[38;5;241m=\u001b[39m \u001b[38;5;28mint\u001b[39m(response\u001b[38;5;241m.\u001b[39mheaders\u001b[38;5;241m.\u001b[39mget(\u001b[38;5;124m\"\u001b[39m\u001b[38;5;124mcontent-length\u001b[39m\u001b[38;5;124m\"\u001b[39m, \u001b[38;5;241m0\u001b[39m))\n",
      "File \u001b[1;32mc:\\Users\\lenle\\anaconda3\\Lib\\site-packages\\requests\\models.py:1021\u001b[0m, in \u001b[0;36mResponse.raise_for_status\u001b[1;34m(self)\u001b[0m\n\u001b[0;32m   1020\u001b[0m \u001b[38;5;28;01mif\u001b[39;00m http_error_msg:\n\u001b[1;32m-> 1021\u001b[0m     \u001b[38;5;28;01mraise\u001b[39;00m HTTPError(http_error_msg, response\u001b[38;5;241m=\u001b[39m\u001b[38;5;28mself\u001b[39m)\n",
      "\u001b[1;31mHTTPError\u001b[0m: 404 Client Error: Not Found for url: https://www.star.bris.ac.uk/exotic-ld-data%5Cmps1%5CMH0.0%5Cteff5500%5Clogg4.5%5Cmps1_spectra.dat",
      "\nDuring handling of the above exception, another exception occurred:\n",
      "\u001b[1;31mHTTPError\u001b[0m                                 Traceback (most recent call last)",
      "Cell \u001b[1;32mIn[2], line 4\u001b[0m\n\u001b[0;32m      1\u001b[0m \u001b[38;5;28;01mfrom\u001b[39;00m \u001b[38;5;21;01mexotic_ld\u001b[39;00m \u001b[38;5;28;01mimport\u001b[39;00m StellarLimbDarkening\n\u001b[1;32m----> 4\u001b[0m sld \u001b[38;5;241m=\u001b[39m StellarLimbDarkening(M_H, Teff, logg, ld_model, ld_data_path)\n",
      "File \u001b[1;32mc:\\Users\\lenle\\anaconda3\\Lib\\site-packages\\exotic_ld\\ld_computation.py:117\u001b[0m, in \u001b[0;36mStellarLimbDarkening.__init__\u001b[1;34m(self, M_H, Teff, logg, ld_model, ld_data_path, interpolate_type, custom_wavelengths, custom_mus, custom_stellar_model, ld_data_version, verbose)\u001b[0m\n\u001b[0;32m    115\u001b[0m         \u001b[38;5;28mprint\u001b[39m(\u001b[38;5;124m\"\u001b[39m\u001b[38;5;124mUsing custom stellar model.\u001b[39m\u001b[38;5;124m\"\u001b[39m)\n\u001b[0;32m    116\u001b[0m \u001b[38;5;28;01melse\u001b[39;00m:\n\u001b[1;32m--> 117\u001b[0m     \u001b[38;5;28mself\u001b[39m\u001b[38;5;241m.\u001b[39m_load_stellar_model()\n\u001b[0;32m    118\u001b[0m \u001b[38;5;28mself\u001b[39m\u001b[38;5;241m.\u001b[39m_check_stellar_model()\n",
      "File \u001b[1;32mc:\\Users\\lenle\\anaconda3\\Lib\\site-packages\\exotic_ld\\ld_computation.py:500\u001b[0m, in \u001b[0;36mStellarLimbDarkening._load_stellar_model\u001b[1;34m(self)\u001b[0m\n\u001b[0;32m    492\u001b[0m     \u001b[38;5;28mprint\u001b[39m(\u001b[38;5;124m\"\u001b[39m\u001b[38;5;124mLoading stellar model from \u001b[39m\u001b[38;5;132;01m{}\u001b[39;00m\u001b[38;5;124m grid.\u001b[39m\u001b[38;5;124m\"\u001b[39m\u001b[38;5;241m.\u001b[39mformat(\u001b[38;5;28mself\u001b[39m\u001b[38;5;241m.\u001b[39mld_model))\n\u001b[0;32m    494\u001b[0m sg \u001b[38;5;241m=\u001b[39m StellarGrids(\u001b[38;5;28mself\u001b[39m\u001b[38;5;241m.\u001b[39mM_H_input, \u001b[38;5;28mself\u001b[39m\u001b[38;5;241m.\u001b[39mTeff_input,\n\u001b[0;32m    495\u001b[0m                   \u001b[38;5;28mself\u001b[39m\u001b[38;5;241m.\u001b[39mlogg_input, \u001b[38;5;28mself\u001b[39m\u001b[38;5;241m.\u001b[39mld_model,\n\u001b[0;32m    496\u001b[0m                   \u001b[38;5;28mself\u001b[39m\u001b[38;5;241m.\u001b[39mld_data_path, \u001b[38;5;28mself\u001b[39m\u001b[38;5;241m.\u001b[39mremote_ld_data_path,\n\u001b[0;32m    497\u001b[0m                   \u001b[38;5;28mself\u001b[39m\u001b[38;5;241m.\u001b[39mld_data_version, \u001b[38;5;28mself\u001b[39m\u001b[38;5;241m.\u001b[39minterpolate_type,\n\u001b[0;32m    498\u001b[0m                   \u001b[38;5;28mself\u001b[39m\u001b[38;5;241m.\u001b[39mverbose)\n\u001b[0;32m    499\u001b[0m \u001b[38;5;28mself\u001b[39m\u001b[38;5;241m.\u001b[39mstellar_wavelengths, \u001b[38;5;28mself\u001b[39m\u001b[38;5;241m.\u001b[39mmus, \u001b[38;5;28mself\u001b[39m\u001b[38;5;241m.\u001b[39mstellar_intensities \u001b[38;5;241m=\u001b[39m \\\n\u001b[1;32m--> 500\u001b[0m     sg\u001b[38;5;241m.\u001b[39mget_stellar_data()\n\u001b[0;32m    502\u001b[0m \u001b[38;5;28;01mif\u001b[39;00m \u001b[38;5;28mself\u001b[39m\u001b[38;5;241m.\u001b[39mverbose \u001b[38;5;241m>\u001b[39m \u001b[38;5;241m1\u001b[39m:\n\u001b[0;32m    503\u001b[0m     \u001b[38;5;28mprint\u001b[39m(\u001b[38;5;124m\"\u001b[39m\u001b[38;5;124mStellar model loaded.\u001b[39m\u001b[38;5;124m\"\u001b[39m)\n",
      "File \u001b[1;32mc:\\Users\\lenle\\anaconda3\\Lib\\site-packages\\exotic_ld\\ld_grids.py:85\u001b[0m, in \u001b[0;36mStellarGrids.get_stellar_data\u001b[1;34m(self)\u001b[0m\n\u001b[0;32m     81\u001b[0m         \u001b[38;5;28;01melse\u001b[39;00m:\n\u001b[0;32m     82\u001b[0m             \u001b[38;5;28mprint\u001b[39m(\u001b[38;5;124m\"\u001b[39m\u001b[38;5;124mMatched nearest with M_H=\u001b[39m\u001b[38;5;132;01m{}\u001b[39;00m\u001b[38;5;124m, Teff=\u001b[39m\u001b[38;5;132;01m{}\u001b[39;00m\u001b[38;5;124m, logg=\u001b[39m\u001b[38;5;132;01m{}\u001b[39;00m\u001b[38;5;124m.\u001b[39m\u001b[38;5;124m\"\u001b[39m\n\u001b[0;32m     83\u001b[0m                   \u001b[38;5;241m.\u001b[39mformat(nearest_M_H, nearest_Teff, nearest_logg))\n\u001b[1;32m---> 85\u001b[0m     \u001b[38;5;28;01mreturn\u001b[39;00m \u001b[38;5;28mself\u001b[39m\u001b[38;5;241m.\u001b[39m_read_in_stellar_model(nearest_M_H, nearest_Teff, nearest_logg)\n\u001b[0;32m     87\u001b[0m \u001b[38;5;28;01melif\u001b[39;00m \u001b[38;5;28mself\u001b[39m\u001b[38;5;241m.\u001b[39minterpolate_type \u001b[38;5;241m==\u001b[39m \u001b[38;5;124m\"\u001b[39m\u001b[38;5;124mtrilinear\u001b[39m\u001b[38;5;124m\"\u001b[39m:\n\u001b[0;32m     88\u001b[0m     \u001b[38;5;28;01mif\u001b[39;00m \u001b[38;5;28mself\u001b[39m\u001b[38;5;241m.\u001b[39mverbose \u001b[38;5;241m>\u001b[39m \u001b[38;5;241m1\u001b[39m:\n",
      "File \u001b[1;32mc:\\Users\\lenle\\anaconda3\\Lib\\site-packages\\exotic_ld\\ld_grids.py:254\u001b[0m, in \u001b[0;36mStellarGrids._read_in_stellar_model\u001b[1;34m(self, M_H, Teff, logg)\u001b[0m\n\u001b[0;32m    252\u001b[0m \u001b[38;5;66;03m# Check if exists locally.\u001b[39;00m\n\u001b[0;32m    253\u001b[0m \u001b[38;5;28;01mif\u001b[39;00m \u001b[38;5;129;01mnot\u001b[39;00m os\u001b[38;5;241m.\u001b[39mpath\u001b[38;5;241m.\u001b[39mexists(local_file_path):\n\u001b[1;32m--> 254\u001b[0m     download(remote_file_path, local_file_path, \u001b[38;5;28mself\u001b[39m\u001b[38;5;241m.\u001b[39mverbose)\n\u001b[0;32m    255\u001b[0m     \u001b[38;5;28;01mif\u001b[39;00m \u001b[38;5;28mself\u001b[39m\u001b[38;5;241m.\u001b[39mverbose \u001b[38;5;241m>\u001b[39m \u001b[38;5;241m1\u001b[39m:\n\u001b[0;32m    256\u001b[0m         \u001b[38;5;28mprint\u001b[39m(\u001b[38;5;124m\"\u001b[39m\u001b[38;5;124mDownloaded \u001b[39m\u001b[38;5;132;01m{}\u001b[39;00m\u001b[38;5;124m.\u001b[39m\u001b[38;5;124m\"\u001b[39m\u001b[38;5;241m.\u001b[39mformat(local_file_path))\n",
      "File \u001b[1;32mc:\\Users\\lenle\\anaconda3\\Lib\\site-packages\\exotic_ld\\ld_requests.py:26\u001b[0m, in \u001b[0;36mdownload\u001b[1;34m(url, local_file_name, verbose, chunk_size)\u001b[0m\n\u001b[0;32m     23\u001b[0m                 bar\u001b[38;5;241m.\u001b[39mupdate(size)\n\u001b[0;32m     25\u001b[0m \u001b[38;5;28;01mexcept\u001b[39;00m HTTPError \u001b[38;5;28;01mas\u001b[39;00m err:\n\u001b[1;32m---> 26\u001b[0m     \u001b[38;5;28;01mraise\u001b[39;00m HTTPError(\u001b[38;5;124m\"\u001b[39m\u001b[38;5;124mHTTP error occurred: url=\u001b[39m\u001b[38;5;132;01m{}\u001b[39;00m\u001b[38;5;124m, msg=\u001b[39m\u001b[38;5;132;01m{}\u001b[39;00m\u001b[38;5;124m\"\u001b[39m\n\u001b[0;32m     27\u001b[0m                     \u001b[38;5;241m.\u001b[39mformat(err\u001b[38;5;241m.\u001b[39mrequest\u001b[38;5;241m.\u001b[39murl, err))\n\u001b[0;32m     29\u001b[0m \u001b[38;5;28;01mexcept\u001b[39;00m requests\u001b[38;5;241m.\u001b[39mexceptions\u001b[38;5;241m.\u001b[39mConnectionError \u001b[38;5;28;01mas\u001b[39;00m err:\n\u001b[0;32m     30\u001b[0m     \u001b[38;5;28;01mraise\u001b[39;00m \u001b[38;5;167;01mConnectionError\u001b[39;00m(\u001b[38;5;124m\"\u001b[39m\u001b[38;5;124mConnection error occurred: url=\u001b[39m\u001b[38;5;132;01m{}\u001b[39;00m\u001b[38;5;124m, msg=\u001b[39m\u001b[38;5;132;01m{}\u001b[39;00m\u001b[38;5;124m\"\u001b[39m\n\u001b[0;32m     31\u001b[0m                           \u001b[38;5;241m.\u001b[39mformat(err\u001b[38;5;241m.\u001b[39mrequest\u001b[38;5;241m.\u001b[39murl, \u001b[38;5;124m\"\u001b[39m\u001b[38;5;124mCannot connect to URL.\u001b[39m\u001b[38;5;124m\"\u001b[39m))\n",
      "\u001b[1;31mHTTPError\u001b[0m: HTTP error occurred: url=https://www.star.bris.ac.uk/exotic-ld-data%5Cmps1%5CMH0.0%5Cteff5500%5Clogg4.5%5Cmps1_spectra.dat, msg=404 Client Error: Not Found for url: https://www.star.bris.ac.uk/exotic-ld-data%5Cmps1%5CMH0.0%5Cteff5500%5Clogg4.5%5Cmps1_spectra.dat"
     ]
    },
    {
     "ename": "",
     "evalue": "",
     "output_type": "error",
     "traceback": [
      "\u001b[1;31mThe Kernel crashed while executing code in the current cell or a previous cell. \n",
      "\u001b[1;31mPlease review the code in the cell(s) to identify a possible cause of the failure. \n",
      "\u001b[1;31mClick <a href='https://aka.ms/vscodeJupyterKernelCrash'>here</a> for more info. \n",
      "\u001b[1;31mView Jupyter <a href='command:jupyter.viewOutput'>log</a> for further details."
     ]
    }
   ],
   "source": [
    "from exotic_ld import StellarLimbDarkening\n",
    "\n",
    "\n",
    "sld = StellarLimbDarkening(M_H, Teff, logg, ld_model, ld_data_path)"
   ]
  }
 ],
 "metadata": {
  "kernelspec": {
   "display_name": "base",
   "language": "python",
   "name": "python3"
  },
  "language_info": {
   "codemirror_mode": {
    "name": "ipython",
    "version": 3
   },
   "file_extension": ".py",
   "mimetype": "text/x-python",
   "name": "python",
   "nbconvert_exporter": "python",
   "pygments_lexer": "ipython3",
   "version": "3.11.4"
  }
 },
 "nbformat": 4,
 "nbformat_minor": 2
}
